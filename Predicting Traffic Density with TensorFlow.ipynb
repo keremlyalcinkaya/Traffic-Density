{
 "cells": [
  {
   "cell_type": "markdown",
   "id": "976bdbc9",
   "metadata": {},
   "source": [
    "# PREDICTING TRAFFIC DENSITY"
   ]
  },
  {
   "cell_type": "markdown",
   "id": "dcd9ca94",
   "metadata": {},
   "source": [
    "IBB provides us hourly traffic density and weather dataset. We will combine these datasets and create a model to predict hourly traffic density."
   ]
  },
  {
   "cell_type": "code",
   "execution_count": 348,
   "id": "778c7d45",
   "metadata": {},
   "outputs": [],
   "source": [
    "import csv\n",
    "import pandas as pd\n",
    "import numpy as np\n",
    "from matplotlib import pyplot as py\n",
    "import geopy\n",
    "import geocoder\n",
    "import glob\n",
    "import os\n",
    "import seaborn as sns"
   ]
  },
  {
   "cell_type": "markdown",
   "id": "227c5d06",
   "metadata": {},
   "source": [
    "## IMPORTING TRAFFIC DATA FILES "
   ]
  },
  {
   "cell_type": "markdown",
   "id": "b39d3a30",
   "metadata": {},
   "source": [
    "https://data.ibb.gov.tr/dataset/hourly-traffic-density-data-set7\n",
    "These datasets are given monthly. So we need to download it seperately in a folder, then merge it with code"
   ]
  },
  {
   "cell_type": "code",
   "execution_count": 349,
   "id": "97302144",
   "metadata": {},
   "outputs": [],
   "source": [
    "path = r'C:/Users/PIT80/Downloads/traffic' # use your path\n",
    "all_files = glob.glob(os.path.join(path , \"*.csv\"))\n",
    "\n",
    "li = []\n",
    "\n",
    "for filename in all_files:\n",
    "    df = pd.read_csv(filename, index_col=None, header=0)\n",
    "    li.append(df)\n",
    "\n",
    "frame = pd.concat(li, axis=0, ignore_index=True)"
   ]
  },
  {
   "cell_type": "code",
   "execution_count": 350,
   "id": "e1a50341",
   "metadata": {
    "scrolled": false
   },
   "outputs": [],
   "source": [
    "trafik=frame"
   ]
  },
  {
   "cell_type": "code",
   "execution_count": 351,
   "id": "02cdfcb4",
   "metadata": {
    "scrolled": true
   },
   "outputs": [
    {
     "data": {
      "text/html": [
       "<div>\n",
       "<style scoped>\n",
       "    .dataframe tbody tr th:only-of-type {\n",
       "        vertical-align: middle;\n",
       "    }\n",
       "\n",
       "    .dataframe tbody tr th {\n",
       "        vertical-align: top;\n",
       "    }\n",
       "\n",
       "    .dataframe thead th {\n",
       "        text-align: right;\n",
       "    }\n",
       "</style>\n",
       "<table border=\"1\" class=\"dataframe\">\n",
       "  <thead>\n",
       "    <tr style=\"text-align: right;\">\n",
       "      <th></th>\n",
       "      <th>GEOHASH</th>\n",
       "      <th>NUMBER_OF_VEHICLES</th>\n",
       "    </tr>\n",
       "  </thead>\n",
       "  <tbody>\n",
       "    <tr>\n",
       "      <th>0</th>\n",
       "      <td>sx7chk</td>\n",
       "      <td>17.0</td>\n",
       "    </tr>\n",
       "    <tr>\n",
       "      <th>1</th>\n",
       "      <td>sx7chm</td>\n",
       "      <td>26.0</td>\n",
       "    </tr>\n",
       "    <tr>\n",
       "      <th>2</th>\n",
       "      <td>sx7cht</td>\n",
       "      <td>23.0</td>\n",
       "    </tr>\n",
       "    <tr>\n",
       "      <th>3</th>\n",
       "      <td>sx7chw</td>\n",
       "      <td>30.0</td>\n",
       "    </tr>\n",
       "    <tr>\n",
       "      <th>4</th>\n",
       "      <td>sx7chx</td>\n",
       "      <td>31.0</td>\n",
       "    </tr>\n",
       "    <tr>\n",
       "      <th>...</th>\n",
       "      <td>...</td>\n",
       "      <td>...</td>\n",
       "    </tr>\n",
       "    <tr>\n",
       "      <th>2325</th>\n",
       "      <td>sxm41s</td>\n",
       "      <td>14.0</td>\n",
       "    </tr>\n",
       "    <tr>\n",
       "      <th>2326</th>\n",
       "      <td>sxm41u</td>\n",
       "      <td>14.0</td>\n",
       "    </tr>\n",
       "    <tr>\n",
       "      <th>2327</th>\n",
       "      <td>sxm445</td>\n",
       "      <td>13.0</td>\n",
       "    </tr>\n",
       "    <tr>\n",
       "      <th>2328</th>\n",
       "      <td>sxm44h</td>\n",
       "      <td>13.0</td>\n",
       "    </tr>\n",
       "    <tr>\n",
       "      <th>2329</th>\n",
       "      <td>sxm44k</td>\n",
       "      <td>13.0</td>\n",
       "    </tr>\n",
       "  </tbody>\n",
       "</table>\n",
       "<p>2330 rows × 2 columns</p>\n",
       "</div>"
      ],
      "text/plain": [
       "     GEOHASH  NUMBER_OF_VEHICLES\n",
       "0     sx7chk                17.0\n",
       "1     sx7chm                26.0\n",
       "2     sx7cht                23.0\n",
       "3     sx7chw                30.0\n",
       "4     sx7chx                31.0\n",
       "...      ...                 ...\n",
       "2325  sxm41s                14.0\n",
       "2326  sxm41u                14.0\n",
       "2327  sxm445                13.0\n",
       "2328  sxm44h                13.0\n",
       "2329  sxm44k                13.0\n",
       "\n",
       "[2330 rows x 2 columns]"
      ]
     },
     "execution_count": 351,
     "metadata": {},
     "output_type": "execute_result"
    }
   ],
   "source": [
    "trafik.groupby('GEOHASH')['NUMBER_OF_VEHICLES'].median().reset_index()"
   ]
  },
  {
   "cell_type": "code",
   "execution_count": 352,
   "id": "d7be5a5a",
   "metadata": {},
   "outputs": [
    {
     "data": {
      "text/plain": [
       "2330"
      ]
     },
     "execution_count": 352,
     "metadata": {},
     "output_type": "execute_result"
    }
   ],
   "source": [
    "trafik['GEOHASH'].nunique()"
   ]
  },
  {
   "cell_type": "code",
   "execution_count": 353,
   "id": "63630166",
   "metadata": {},
   "outputs": [],
   "source": [
    "import reverse_geocoder as rg"
   ]
  },
  {
   "cell_type": "code",
   "execution_count": 354,
   "id": "a49ca1b7",
   "metadata": {
    "scrolled": false
   },
   "outputs": [
    {
     "data": {
      "text/html": [
       "<div>\n",
       "<style scoped>\n",
       "    .dataframe tbody tr th:only-of-type {\n",
       "        vertical-align: middle;\n",
       "    }\n",
       "\n",
       "    .dataframe tbody tr th {\n",
       "        vertical-align: top;\n",
       "    }\n",
       "\n",
       "    .dataframe thead th {\n",
       "        text-align: right;\n",
       "    }\n",
       "</style>\n",
       "<table border=\"1\" class=\"dataframe\">\n",
       "  <thead>\n",
       "    <tr style=\"text-align: right;\">\n",
       "      <th></th>\n",
       "      <th>DATE_TIME</th>\n",
       "      <th>LONGITUDE</th>\n",
       "      <th>LATITUDE</th>\n",
       "      <th>GEOHASH</th>\n",
       "      <th>MINIMUM_SPEED</th>\n",
       "      <th>MAXIMUM_SPEED</th>\n",
       "      <th>AVERAGE_SPEED</th>\n",
       "      <th>NUMBER_OF_VEHICLES</th>\n",
       "    </tr>\n",
       "  </thead>\n",
       "  <tbody>\n",
       "    <tr>\n",
       "      <th>0</th>\n",
       "      <td>2020-01-03 13:00:00</td>\n",
       "      <td>28.8</td>\n",
       "      <td>41.1</td>\n",
       "      <td>sxk9bk</td>\n",
       "      <td>9</td>\n",
       "      <td>78</td>\n",
       "      <td>53</td>\n",
       "      <td>105</td>\n",
       "    </tr>\n",
       "    <tr>\n",
       "      <th>1</th>\n",
       "      <td>2020-01-16 07:00:00</td>\n",
       "      <td>29.2</td>\n",
       "      <td>41.0</td>\n",
       "      <td>sxk9r3</td>\n",
       "      <td>6</td>\n",
       "      <td>64</td>\n",
       "      <td>27</td>\n",
       "      <td>68</td>\n",
       "    </tr>\n",
       "    <tr>\n",
       "      <th>2</th>\n",
       "      <td>2020-01-17 20:00:00</td>\n",
       "      <td>28.5</td>\n",
       "      <td>41.0</td>\n",
       "      <td>sxk1rz</td>\n",
       "      <td>53</td>\n",
       "      <td>96</td>\n",
       "      <td>72</td>\n",
       "      <td>11</td>\n",
       "    </tr>\n",
       "    <tr>\n",
       "      <th>3</th>\n",
       "      <td>2020-01-14 22:00:00</td>\n",
       "      <td>29.4</td>\n",
       "      <td>40.8</td>\n",
       "      <td>sxkbhn</td>\n",
       "      <td>17</td>\n",
       "      <td>128</td>\n",
       "      <td>73</td>\n",
       "      <td>216</td>\n",
       "    </tr>\n",
       "    <tr>\n",
       "      <th>4</th>\n",
       "      <td>2020-01-17 20:00:00</td>\n",
       "      <td>28.8</td>\n",
       "      <td>41.0</td>\n",
       "      <td>sxk906</td>\n",
       "      <td>16</td>\n",
       "      <td>82</td>\n",
       "      <td>55</td>\n",
       "      <td>123</td>\n",
       "    </tr>\n",
       "    <tr>\n",
       "      <th>...</th>\n",
       "      <td>...</td>\n",
       "      <td>...</td>\n",
       "      <td>...</td>\n",
       "      <td>...</td>\n",
       "      <td>...</td>\n",
       "      <td>...</td>\n",
       "      <td>...</td>\n",
       "      <td>...</td>\n",
       "    </tr>\n",
       "    <tr>\n",
       "      <th>15233816</th>\n",
       "      <td>2020-12-21 02:00:00</td>\n",
       "      <td>29.3</td>\n",
       "      <td>40.9</td>\n",
       "      <td>sxkbgk</td>\n",
       "      <td>8</td>\n",
       "      <td>154</td>\n",
       "      <td>76</td>\n",
       "      <td>115</td>\n",
       "    </tr>\n",
       "    <tr>\n",
       "      <th>15233817</th>\n",
       "      <td>2020-12-11 18:00:00</td>\n",
       "      <td>29.3</td>\n",
       "      <td>41.0</td>\n",
       "      <td>sxkc5t</td>\n",
       "      <td>41</td>\n",
       "      <td>129</td>\n",
       "      <td>76</td>\n",
       "      <td>48</td>\n",
       "    </tr>\n",
       "    <tr>\n",
       "      <th>15233818</th>\n",
       "      <td>2020-12-15 20:00:00</td>\n",
       "      <td>28.9</td>\n",
       "      <td>41.0</td>\n",
       "      <td>sxk92y</td>\n",
       "      <td>6</td>\n",
       "      <td>42</td>\n",
       "      <td>18</td>\n",
       "      <td>85</td>\n",
       "    </tr>\n",
       "    <tr>\n",
       "      <th>15233819</th>\n",
       "      <td>2020-12-15 07:00:00</td>\n",
       "      <td>28.8</td>\n",
       "      <td>41.1</td>\n",
       "      <td>sxk3x1</td>\n",
       "      <td>6</td>\n",
       "      <td>81</td>\n",
       "      <td>30</td>\n",
       "      <td>179</td>\n",
       "    </tr>\n",
       "    <tr>\n",
       "      <th>15233820</th>\n",
       "      <td>2020-12-18 12:00:00</td>\n",
       "      <td>28.6</td>\n",
       "      <td>41.2</td>\n",
       "      <td>sxk6e1</td>\n",
       "      <td>56</td>\n",
       "      <td>155</td>\n",
       "      <td>88</td>\n",
       "      <td>97</td>\n",
       "    </tr>\n",
       "  </tbody>\n",
       "</table>\n",
       "<p>15233821 rows × 8 columns</p>\n",
       "</div>"
      ],
      "text/plain": [
       "                    DATE_TIME  LONGITUDE  LATITUDE GEOHASH  MINIMUM_SPEED  \\\n",
       "0         2020-01-03 13:00:00       28.8      41.1  sxk9bk              9   \n",
       "1         2020-01-16 07:00:00       29.2      41.0  sxk9r3              6   \n",
       "2         2020-01-17 20:00:00       28.5      41.0  sxk1rz             53   \n",
       "3         2020-01-14 22:00:00       29.4      40.8  sxkbhn             17   \n",
       "4         2020-01-17 20:00:00       28.8      41.0  sxk906             16   \n",
       "...                       ...        ...       ...     ...            ...   \n",
       "15233816  2020-12-21 02:00:00       29.3      40.9  sxkbgk              8   \n",
       "15233817  2020-12-11 18:00:00       29.3      41.0  sxkc5t             41   \n",
       "15233818  2020-12-15 20:00:00       28.9      41.0  sxk92y              6   \n",
       "15233819  2020-12-15 07:00:00       28.8      41.1  sxk3x1              6   \n",
       "15233820  2020-12-18 12:00:00       28.6      41.2  sxk6e1             56   \n",
       "\n",
       "          MAXIMUM_SPEED  AVERAGE_SPEED  NUMBER_OF_VEHICLES  \n",
       "0                    78             53                 105  \n",
       "1                    64             27                  68  \n",
       "2                    96             72                  11  \n",
       "3                   128             73                 216  \n",
       "4                    82             55                 123  \n",
       "...                 ...            ...                 ...  \n",
       "15233816            154             76                 115  \n",
       "15233817            129             76                  48  \n",
       "15233818             42             18                  85  \n",
       "15233819             81             30                 179  \n",
       "15233820            155             88                  97  \n",
       "\n",
       "[15233821 rows x 8 columns]"
      ]
     },
     "execution_count": 354,
     "metadata": {},
     "output_type": "execute_result"
    }
   ],
   "source": [
    "trafik"
   ]
  },
  {
   "cell_type": "code",
   "execution_count": 355,
   "id": "e80e90ed",
   "metadata": {},
   "outputs": [],
   "source": [
    "trafik = trafik.dropna()"
   ]
  },
  {
   "cell_type": "markdown",
   "id": "6d13e55c",
   "metadata": {},
   "source": [
    "## ADDING PROVINCE COLUMN TO OUR DATASET"
   ]
  },
  {
   "cell_type": "code",
   "execution_count": 356,
   "id": "586921b3",
   "metadata": {
    "scrolled": true
   },
   "outputs": [],
   "source": [
    "# Convert lat and long columns to a tuple of tuples\n",
    "coords_1 = tuple(zip(trafik['LATITUDE'], trafik['LONGITUDE']))\n",
    "\n",
    "results_rg1 = rg.search(coords_1)\n",
    "results_name_1 = [x.get('name') for x in results_rg1]\n",
    "results_admin1_1 = [x.get('admin1') for x in results_rg1]\n",
    "results_lat_1 = [x.get('lat') for x in results_rg1]\n",
    "results_lon_1 = [x.get('lon') for x in results_rg1]\n",
    "\n",
    "# Optional: insert admin2 results into new df column\n",
    "trafik['province'] = results_name_1\n",
    "trafik['city'] = results_admin1_1\n",
    "trafik['rlat'] = results_lat_1\n",
    "trafik['rlong'] = results_lon_1"
   ]
  },
  {
   "cell_type": "markdown",
   "id": "3cec1743",
   "metadata": {},
   "source": [
    "Removing wrong latitudes and longitudes."
   ]
  },
  {
   "cell_type": "code",
   "execution_count": 357,
   "id": "d84876b3",
   "metadata": {},
   "outputs": [
    {
     "data": {
      "text/plain": [
       "0"
      ]
     },
     "execution_count": 357,
     "metadata": {},
     "output_type": "execute_result"
    }
   ],
   "source": [
    "trafik['LONGITUDE'].isnull().sum()"
   ]
  },
  {
   "cell_type": "code",
   "execution_count": 358,
   "id": "8634365a",
   "metadata": {},
   "outputs": [
    {
     "data": {
      "text/html": [
       "<div>\n",
       "<style scoped>\n",
       "    .dataframe tbody tr th:only-of-type {\n",
       "        vertical-align: middle;\n",
       "    }\n",
       "\n",
       "    .dataframe tbody tr th {\n",
       "        vertical-align: top;\n",
       "    }\n",
       "\n",
       "    .dataframe thead th {\n",
       "        text-align: right;\n",
       "    }\n",
       "</style>\n",
       "<table border=\"1\" class=\"dataframe\">\n",
       "  <thead>\n",
       "    <tr style=\"text-align: right;\">\n",
       "      <th></th>\n",
       "      <th>DATE_TIME</th>\n",
       "      <th>LONGITUDE</th>\n",
       "      <th>LATITUDE</th>\n",
       "      <th>GEOHASH</th>\n",
       "      <th>MINIMUM_SPEED</th>\n",
       "      <th>MAXIMUM_SPEED</th>\n",
       "      <th>AVERAGE_SPEED</th>\n",
       "      <th>NUMBER_OF_VEHICLES</th>\n",
       "      <th>province</th>\n",
       "      <th>city</th>\n",
       "      <th>rlat</th>\n",
       "      <th>rlong</th>\n",
       "    </tr>\n",
       "  </thead>\n",
       "  <tbody>\n",
       "  </tbody>\n",
       "</table>\n",
       "</div>"
      ],
      "text/plain": [
       "Empty DataFrame\n",
       "Columns: [DATE_TIME, LONGITUDE, LATITUDE, GEOHASH, MINIMUM_SPEED, MAXIMUM_SPEED, AVERAGE_SPEED, NUMBER_OF_VEHICLES, province, city, rlat, rlong]\n",
       "Index: []"
      ]
     },
     "execution_count": 358,
     "metadata": {},
     "output_type": "execute_result"
    }
   ],
   "source": [
    "trafik[(trafik['LATITUDE']<20)]"
   ]
  },
  {
   "cell_type": "code",
   "execution_count": 359,
   "id": "0502a87d",
   "metadata": {},
   "outputs": [
    {
     "data": {
      "text/html": [
       "<div>\n",
       "<style scoped>\n",
       "    .dataframe tbody tr th:only-of-type {\n",
       "        vertical-align: middle;\n",
       "    }\n",
       "\n",
       "    .dataframe tbody tr th {\n",
       "        vertical-align: top;\n",
       "    }\n",
       "\n",
       "    .dataframe thead th {\n",
       "        text-align: right;\n",
       "    }\n",
       "</style>\n",
       "<table border=\"1\" class=\"dataframe\">\n",
       "  <thead>\n",
       "    <tr style=\"text-align: right;\">\n",
       "      <th></th>\n",
       "      <th>DATE_TIME</th>\n",
       "      <th>LONGITUDE</th>\n",
       "      <th>LATITUDE</th>\n",
       "      <th>GEOHASH</th>\n",
       "      <th>MINIMUM_SPEED</th>\n",
       "      <th>MAXIMUM_SPEED</th>\n",
       "      <th>AVERAGE_SPEED</th>\n",
       "      <th>NUMBER_OF_VEHICLES</th>\n",
       "      <th>province</th>\n",
       "      <th>city</th>\n",
       "      <th>rlat</th>\n",
       "      <th>rlong</th>\n",
       "    </tr>\n",
       "  </thead>\n",
       "  <tbody>\n",
       "    <tr>\n",
       "      <th>1</th>\n",
       "      <td>2020-01-16 07:00:00</td>\n",
       "      <td>29.2</td>\n",
       "      <td>41.0</td>\n",
       "      <td>sxk9r3</td>\n",
       "      <td>6</td>\n",
       "      <td>64</td>\n",
       "      <td>27</td>\n",
       "      <td>68</td>\n",
       "      <td>Umraniye</td>\n",
       "      <td>Istanbul</td>\n",
       "      <td>41.01643</td>\n",
       "      <td>29.12476</td>\n",
       "    </tr>\n",
       "    <tr>\n",
       "      <th>23</th>\n",
       "      <td>2020-01-14 05:00:00</td>\n",
       "      <td>29.1</td>\n",
       "      <td>41.0</td>\n",
       "      <td>sxk9qk</td>\n",
       "      <td>7</td>\n",
       "      <td>83</td>\n",
       "      <td>35</td>\n",
       "      <td>78</td>\n",
       "      <td>Umraniye</td>\n",
       "      <td>Istanbul</td>\n",
       "      <td>41.01643</td>\n",
       "      <td>29.12476</td>\n",
       "    </tr>\n",
       "    <tr>\n",
       "      <th>44</th>\n",
       "      <td>2020-01-21 17:00:00</td>\n",
       "      <td>29.2</td>\n",
       "      <td>41.0</td>\n",
       "      <td>sxk9pw</td>\n",
       "      <td>6</td>\n",
       "      <td>112</td>\n",
       "      <td>29</td>\n",
       "      <td>540</td>\n",
       "      <td>Umraniye</td>\n",
       "      <td>Istanbul</td>\n",
       "      <td>41.01643</td>\n",
       "      <td>29.12476</td>\n",
       "    </tr>\n",
       "    <tr>\n",
       "      <th>75</th>\n",
       "      <td>2020-01-16 16:00:00</td>\n",
       "      <td>29.1</td>\n",
       "      <td>41.0</td>\n",
       "      <td>sxk9mc</td>\n",
       "      <td>6</td>\n",
       "      <td>113</td>\n",
       "      <td>41</td>\n",
       "      <td>246</td>\n",
       "      <td>Umraniye</td>\n",
       "      <td>Istanbul</td>\n",
       "      <td>41.01643</td>\n",
       "      <td>29.12476</td>\n",
       "    </tr>\n",
       "    <tr>\n",
       "      <th>122</th>\n",
       "      <td>2020-01-30 07:00:00</td>\n",
       "      <td>29.2</td>\n",
       "      <td>41.1</td>\n",
       "      <td>sxk9x3</td>\n",
       "      <td>79</td>\n",
       "      <td>137</td>\n",
       "      <td>104</td>\n",
       "      <td>14</td>\n",
       "      <td>Umraniye</td>\n",
       "      <td>Istanbul</td>\n",
       "      <td>41.01643</td>\n",
       "      <td>29.12476</td>\n",
       "    </tr>\n",
       "    <tr>\n",
       "      <th>...</th>\n",
       "      <td>...</td>\n",
       "      <td>...</td>\n",
       "      <td>...</td>\n",
       "      <td>...</td>\n",
       "      <td>...</td>\n",
       "      <td>...</td>\n",
       "      <td>...</td>\n",
       "      <td>...</td>\n",
       "      <td>...</td>\n",
       "      <td>...</td>\n",
       "      <td>...</td>\n",
       "      <td>...</td>\n",
       "    </tr>\n",
       "    <tr>\n",
       "      <th>15233732</th>\n",
       "      <td>2020-12-14 08:00:00</td>\n",
       "      <td>29.1</td>\n",
       "      <td>41.1</td>\n",
       "      <td>sxk9tg</td>\n",
       "      <td>6</td>\n",
       "      <td>66</td>\n",
       "      <td>35</td>\n",
       "      <td>51</td>\n",
       "      <td>Umraniye</td>\n",
       "      <td>Istanbul</td>\n",
       "      <td>41.01643</td>\n",
       "      <td>29.12476</td>\n",
       "    </tr>\n",
       "    <tr>\n",
       "      <th>15233734</th>\n",
       "      <td>2020-12-19 07:00:00</td>\n",
       "      <td>29.1</td>\n",
       "      <td>41.1</td>\n",
       "      <td>sxk9vu</td>\n",
       "      <td>21</td>\n",
       "      <td>70</td>\n",
       "      <td>49</td>\n",
       "      <td>12</td>\n",
       "      <td>Umraniye</td>\n",
       "      <td>Istanbul</td>\n",
       "      <td>41.01643</td>\n",
       "      <td>29.12476</td>\n",
       "    </tr>\n",
       "    <tr>\n",
       "      <th>15233767</th>\n",
       "      <td>2020-12-01 17:00:00</td>\n",
       "      <td>29.2</td>\n",
       "      <td>41.0</td>\n",
       "      <td>sxk9rq</td>\n",
       "      <td>18</td>\n",
       "      <td>84</td>\n",
       "      <td>62</td>\n",
       "      <td>240</td>\n",
       "      <td>Umraniye</td>\n",
       "      <td>Istanbul</td>\n",
       "      <td>41.01643</td>\n",
       "      <td>29.12476</td>\n",
       "    </tr>\n",
       "    <tr>\n",
       "      <th>15233799</th>\n",
       "      <td>2020-12-02 10:00:00</td>\n",
       "      <td>29.1</td>\n",
       "      <td>41.0</td>\n",
       "      <td>sxk9mv</td>\n",
       "      <td>6</td>\n",
       "      <td>104</td>\n",
       "      <td>46</td>\n",
       "      <td>137</td>\n",
       "      <td>Umraniye</td>\n",
       "      <td>Istanbul</td>\n",
       "      <td>41.01643</td>\n",
       "      <td>29.12476</td>\n",
       "    </tr>\n",
       "    <tr>\n",
       "      <th>15233815</th>\n",
       "      <td>2020-12-10 19:00:00</td>\n",
       "      <td>29.2</td>\n",
       "      <td>41.0</td>\n",
       "      <td>sxk9rq</td>\n",
       "      <td>6</td>\n",
       "      <td>110</td>\n",
       "      <td>60</td>\n",
       "      <td>206</td>\n",
       "      <td>Umraniye</td>\n",
       "      <td>Istanbul</td>\n",
       "      <td>41.01643</td>\n",
       "      <td>29.12476</td>\n",
       "    </tr>\n",
       "  </tbody>\n",
       "</table>\n",
       "<p>819680 rows × 12 columns</p>\n",
       "</div>"
      ],
      "text/plain": [
       "                    DATE_TIME  LONGITUDE  LATITUDE GEOHASH  MINIMUM_SPEED  \\\n",
       "1         2020-01-16 07:00:00       29.2      41.0  sxk9r3              6   \n",
       "23        2020-01-14 05:00:00       29.1      41.0  sxk9qk              7   \n",
       "44        2020-01-21 17:00:00       29.2      41.0  sxk9pw              6   \n",
       "75        2020-01-16 16:00:00       29.1      41.0  sxk9mc              6   \n",
       "122       2020-01-30 07:00:00       29.2      41.1  sxk9x3             79   \n",
       "...                       ...        ...       ...     ...            ...   \n",
       "15233732  2020-12-14 08:00:00       29.1      41.1  sxk9tg              6   \n",
       "15233734  2020-12-19 07:00:00       29.1      41.1  sxk9vu             21   \n",
       "15233767  2020-12-01 17:00:00       29.2      41.0  sxk9rq             18   \n",
       "15233799  2020-12-02 10:00:00       29.1      41.0  sxk9mv              6   \n",
       "15233815  2020-12-10 19:00:00       29.2      41.0  sxk9rq              6   \n",
       "\n",
       "          MAXIMUM_SPEED  AVERAGE_SPEED  NUMBER_OF_VEHICLES  province  \\\n",
       "1                    64             27                  68  Umraniye   \n",
       "23                   83             35                  78  Umraniye   \n",
       "44                  112             29                 540  Umraniye   \n",
       "75                  113             41                 246  Umraniye   \n",
       "122                 137            104                  14  Umraniye   \n",
       "...                 ...            ...                 ...       ...   \n",
       "15233732             66             35                  51  Umraniye   \n",
       "15233734             70             49                  12  Umraniye   \n",
       "15233767             84             62                 240  Umraniye   \n",
       "15233799            104             46                 137  Umraniye   \n",
       "15233815            110             60                 206  Umraniye   \n",
       "\n",
       "              city      rlat     rlong  \n",
       "1         Istanbul  41.01643  29.12476  \n",
       "23        Istanbul  41.01643  29.12476  \n",
       "44        Istanbul  41.01643  29.12476  \n",
       "75        Istanbul  41.01643  29.12476  \n",
       "122       Istanbul  41.01643  29.12476  \n",
       "...            ...       ...       ...  \n",
       "15233732  Istanbul  41.01643  29.12476  \n",
       "15233734  Istanbul  41.01643  29.12476  \n",
       "15233767  Istanbul  41.01643  29.12476  \n",
       "15233799  Istanbul  41.01643  29.12476  \n",
       "15233815  Istanbul  41.01643  29.12476  \n",
       "\n",
       "[819680 rows x 12 columns]"
      ]
     },
     "execution_count": 359,
     "metadata": {},
     "output_type": "execute_result"
    }
   ],
   "source": [
    "trafik[(trafik['province']=='Umraniye')]"
   ]
  },
  {
   "cell_type": "markdown",
   "id": "b3ab7af8",
   "metadata": {},
   "source": [
    "We just analyze the Istanbul Data, so there is no need for another city."
   ]
  },
  {
   "cell_type": "code",
   "execution_count": 360,
   "id": "e1989ea9",
   "metadata": {},
   "outputs": [],
   "source": [
    "trafik=trafik[(trafik['city']=='Istanbul')]"
   ]
  },
  {
   "cell_type": "code",
   "execution_count": 361,
   "id": "cd5c99dd",
   "metadata": {},
   "outputs": [],
   "source": [
    "traffic = trafik"
   ]
  },
  {
   "cell_type": "markdown",
   "id": "4e3e3704",
   "metadata": {},
   "source": [
    "## IMPORTING WEATHER DATA"
   ]
  },
  {
   "cell_type": "markdown",
   "id": "a143ce0e",
   "metadata": {},
   "source": [
    "https://data.ibb.gov.tr/dataset/meteorology-observation-station-data-set"
   ]
  },
  {
   "cell_type": "code",
   "execution_count": 362,
   "id": "800e77fb",
   "metadata": {},
   "outputs": [],
   "source": [
    "path = r'C:/Users/PIT80/Downloads/weather' # use your path\n",
    "all_files = glob.glob(os.path.join(path , \"*.csv\"))\n",
    "\n",
    "li = []\n",
    "\n",
    "for filename in all_files:\n",
    "    df = pd.read_csv(filename, index_col=None, header=0)\n",
    "    li.append(df)\n",
    "\n",
    "weather = pd.concat(li, axis=0, ignore_index=True)"
   ]
  },
  {
   "cell_type": "code",
   "execution_count": 363,
   "id": "34657921",
   "metadata": {
    "scrolled": true
   },
   "outputs": [
    {
     "data": {
      "text/plain": [
       "Index(['DATE_TIME', 'OBSERVATORY_NAME', 'SENSOR_TYPE', 'MINIMUM_TEMPERATURE',\n",
       "       'MAXIMUM_TEMPERATURE', 'AVERAGE_TEMPERATURE', 'MINIMUM_HUMIDITY',\n",
       "       'MAXIMUM_HUMIDITY', 'AVERAGE_HUMIDITY', 'MINIMUM_WIND', 'MAXIMUM_WIND',\n",
       "       'AVERAGE_WIND', 'MINIMUM_DIRECTIONOFWIND', 'MAXIMUM_DIRECTIONOFWIND',\n",
       "       'AVERAGE_DIRECTIONOFWIND', 'MINIMUM_PRECIPITATION',\n",
       "       'MAXIMUM_PRECIPITATION', 'AVERAGE_PRECIPITATION',\n",
       "       'MINIMUM_ROAD_TEMPERATURE', 'MAXIMUM_ROAD_TEMPERATURE',\n",
       "       'AVERAGE_ROAD_TEMPERATURE', 'MINIMUM_FELT_TEMPERATURE',\n",
       "       'MAXIMUM_FELT_TEMPERATURE', 'AVERAGE_FELT_TEMPERATURE'],\n",
       "      dtype='object')"
      ]
     },
     "execution_count": 363,
     "metadata": {},
     "output_type": "execute_result"
    }
   ],
   "source": [
    "weather.columns"
   ]
  },
  {
   "cell_type": "markdown",
   "id": "6284a6f5",
   "metadata": {},
   "source": [
    "We filter traffic and weather data just for a point for Umraniye."
   ]
  },
  {
   "cell_type": "code",
   "execution_count": 364,
   "id": "a95ba699",
   "metadata": {},
   "outputs": [],
   "source": [
    "weather=weather[(weather['OBSERVATORY_NAME']=='UMRANIYE')]"
   ]
  },
  {
   "cell_type": "code",
   "execution_count": 365,
   "id": "364cc2ed",
   "metadata": {},
   "outputs": [],
   "source": [
    "weather1 = weather[['DATE_TIME','AVERAGE_PRECIPITATION','AVERAGE_ROAD_TEMPERATURE']]"
   ]
  },
  {
   "cell_type": "code",
   "execution_count": 366,
   "id": "12c4639a",
   "metadata": {},
   "outputs": [],
   "source": [
    "traffic = traffic[(traffic['GEOHASH']=='sxk9pw')]"
   ]
  },
  {
   "cell_type": "code",
   "execution_count": 367,
   "id": "a2227eb5",
   "metadata": {
    "scrolled": false
   },
   "outputs": [
    {
     "data": {
      "text/html": [
       "<div>\n",
       "<style scoped>\n",
       "    .dataframe tbody tr th:only-of-type {\n",
       "        vertical-align: middle;\n",
       "    }\n",
       "\n",
       "    .dataframe tbody tr th {\n",
       "        vertical-align: top;\n",
       "    }\n",
       "\n",
       "    .dataframe thead th {\n",
       "        text-align: right;\n",
       "    }\n",
       "</style>\n",
       "<table border=\"1\" class=\"dataframe\">\n",
       "  <thead>\n",
       "    <tr style=\"text-align: right;\">\n",
       "      <th></th>\n",
       "      <th>DATE_TIME</th>\n",
       "      <th>LONGITUDE</th>\n",
       "      <th>LATITUDE</th>\n",
       "      <th>GEOHASH</th>\n",
       "      <th>MINIMUM_SPEED</th>\n",
       "      <th>MAXIMUM_SPEED</th>\n",
       "      <th>AVERAGE_SPEED</th>\n",
       "      <th>NUMBER_OF_VEHICLES</th>\n",
       "      <th>province</th>\n",
       "      <th>city</th>\n",
       "      <th>rlat</th>\n",
       "      <th>rlong</th>\n",
       "    </tr>\n",
       "  </thead>\n",
       "  <tbody>\n",
       "    <tr>\n",
       "      <th>44</th>\n",
       "      <td>2020-01-21 17:00:00</td>\n",
       "      <td>29.2</td>\n",
       "      <td>41.0</td>\n",
       "      <td>sxk9pw</td>\n",
       "      <td>6</td>\n",
       "      <td>112</td>\n",
       "      <td>29</td>\n",
       "      <td>540</td>\n",
       "      <td>Umraniye</td>\n",
       "      <td>Istanbul</td>\n",
       "      <td>41.01643</td>\n",
       "      <td>29.12476</td>\n",
       "    </tr>\n",
       "    <tr>\n",
       "      <th>443</th>\n",
       "      <td>2020-01-14 09:00:00</td>\n",
       "      <td>29.2</td>\n",
       "      <td>41.0</td>\n",
       "      <td>sxk9pw</td>\n",
       "      <td>6</td>\n",
       "      <td>87</td>\n",
       "      <td>31</td>\n",
       "      <td>359</td>\n",
       "      <td>Umraniye</td>\n",
       "      <td>Istanbul</td>\n",
       "      <td>41.01643</td>\n",
       "      <td>29.12476</td>\n",
       "    </tr>\n",
       "    <tr>\n",
       "      <th>1582</th>\n",
       "      <td>2020-01-23 02:00:00</td>\n",
       "      <td>29.2</td>\n",
       "      <td>41.0</td>\n",
       "      <td>sxk9pw</td>\n",
       "      <td>9</td>\n",
       "      <td>160</td>\n",
       "      <td>72</td>\n",
       "      <td>64</td>\n",
       "      <td>Umraniye</td>\n",
       "      <td>Istanbul</td>\n",
       "      <td>41.01643</td>\n",
       "      <td>29.12476</td>\n",
       "    </tr>\n",
       "    <tr>\n",
       "      <th>6100</th>\n",
       "      <td>2020-01-17 03:00:00</td>\n",
       "      <td>29.2</td>\n",
       "      <td>41.0</td>\n",
       "      <td>sxk9pw</td>\n",
       "      <td>13</td>\n",
       "      <td>137</td>\n",
       "      <td>72</td>\n",
       "      <td>78</td>\n",
       "      <td>Umraniye</td>\n",
       "      <td>Istanbul</td>\n",
       "      <td>41.01643</td>\n",
       "      <td>29.12476</td>\n",
       "    </tr>\n",
       "    <tr>\n",
       "      <th>7728</th>\n",
       "      <td>2020-01-28 02:00:00</td>\n",
       "      <td>29.2</td>\n",
       "      <td>41.0</td>\n",
       "      <td>sxk9pw</td>\n",
       "      <td>10</td>\n",
       "      <td>144</td>\n",
       "      <td>68</td>\n",
       "      <td>85</td>\n",
       "      <td>Umraniye</td>\n",
       "      <td>Istanbul</td>\n",
       "      <td>41.01643</td>\n",
       "      <td>29.12476</td>\n",
       "    </tr>\n",
       "    <tr>\n",
       "      <th>...</th>\n",
       "      <td>...</td>\n",
       "      <td>...</td>\n",
       "      <td>...</td>\n",
       "      <td>...</td>\n",
       "      <td>...</td>\n",
       "      <td>...</td>\n",
       "      <td>...</td>\n",
       "      <td>...</td>\n",
       "      <td>...</td>\n",
       "      <td>...</td>\n",
       "      <td>...</td>\n",
       "      <td>...</td>\n",
       "    </tr>\n",
       "    <tr>\n",
       "      <th>15204661</th>\n",
       "      <td>2020-12-26 13:00:00</td>\n",
       "      <td>29.2</td>\n",
       "      <td>41.0</td>\n",
       "      <td>sxk9pw</td>\n",
       "      <td>6</td>\n",
       "      <td>140</td>\n",
       "      <td>62</td>\n",
       "      <td>254</td>\n",
       "      <td>Umraniye</td>\n",
       "      <td>Istanbul</td>\n",
       "      <td>41.01643</td>\n",
       "      <td>29.12476</td>\n",
       "    </tr>\n",
       "    <tr>\n",
       "      <th>15205044</th>\n",
       "      <td>2020-12-07 19:00:00</td>\n",
       "      <td>29.2</td>\n",
       "      <td>41.0</td>\n",
       "      <td>sxk9pw</td>\n",
       "      <td>6</td>\n",
       "      <td>103</td>\n",
       "      <td>35</td>\n",
       "      <td>472</td>\n",
       "      <td>Umraniye</td>\n",
       "      <td>Istanbul</td>\n",
       "      <td>41.01643</td>\n",
       "      <td>29.12476</td>\n",
       "    </tr>\n",
       "    <tr>\n",
       "      <th>15212099</th>\n",
       "      <td>2020-12-25 09:00:00</td>\n",
       "      <td>29.2</td>\n",
       "      <td>41.0</td>\n",
       "      <td>sxk9pw</td>\n",
       "      <td>6</td>\n",
       "      <td>107</td>\n",
       "      <td>43</td>\n",
       "      <td>566</td>\n",
       "      <td>Umraniye</td>\n",
       "      <td>Istanbul</td>\n",
       "      <td>41.01643</td>\n",
       "      <td>29.12476</td>\n",
       "    </tr>\n",
       "    <tr>\n",
       "      <th>15219785</th>\n",
       "      <td>2020-12-12 21:00:00</td>\n",
       "      <td>29.2</td>\n",
       "      <td>41.0</td>\n",
       "      <td>sxk9pw</td>\n",
       "      <td>10</td>\n",
       "      <td>117</td>\n",
       "      <td>71</td>\n",
       "      <td>98</td>\n",
       "      <td>Umraniye</td>\n",
       "      <td>Istanbul</td>\n",
       "      <td>41.01643</td>\n",
       "      <td>29.12476</td>\n",
       "    </tr>\n",
       "    <tr>\n",
       "      <th>15219970</th>\n",
       "      <td>2020-12-05 06:00:00</td>\n",
       "      <td>29.2</td>\n",
       "      <td>41.0</td>\n",
       "      <td>sxk9pw</td>\n",
       "      <td>6</td>\n",
       "      <td>132</td>\n",
       "      <td>67</td>\n",
       "      <td>240</td>\n",
       "      <td>Umraniye</td>\n",
       "      <td>Istanbul</td>\n",
       "      <td>41.01643</td>\n",
       "      <td>29.12476</td>\n",
       "    </tr>\n",
       "  </tbody>\n",
       "</table>\n",
       "<p>8573 rows × 12 columns</p>\n",
       "</div>"
      ],
      "text/plain": [
       "                    DATE_TIME  LONGITUDE  LATITUDE GEOHASH  MINIMUM_SPEED  \\\n",
       "44        2020-01-21 17:00:00       29.2      41.0  sxk9pw              6   \n",
       "443       2020-01-14 09:00:00       29.2      41.0  sxk9pw              6   \n",
       "1582      2020-01-23 02:00:00       29.2      41.0  sxk9pw              9   \n",
       "6100      2020-01-17 03:00:00       29.2      41.0  sxk9pw             13   \n",
       "7728      2020-01-28 02:00:00       29.2      41.0  sxk9pw             10   \n",
       "...                       ...        ...       ...     ...            ...   \n",
       "15204661  2020-12-26 13:00:00       29.2      41.0  sxk9pw              6   \n",
       "15205044  2020-12-07 19:00:00       29.2      41.0  sxk9pw              6   \n",
       "15212099  2020-12-25 09:00:00       29.2      41.0  sxk9pw              6   \n",
       "15219785  2020-12-12 21:00:00       29.2      41.0  sxk9pw             10   \n",
       "15219970  2020-12-05 06:00:00       29.2      41.0  sxk9pw              6   \n",
       "\n",
       "          MAXIMUM_SPEED  AVERAGE_SPEED  NUMBER_OF_VEHICLES  province  \\\n",
       "44                  112             29                 540  Umraniye   \n",
       "443                  87             31                 359  Umraniye   \n",
       "1582                160             72                  64  Umraniye   \n",
       "6100                137             72                  78  Umraniye   \n",
       "7728                144             68                  85  Umraniye   \n",
       "...                 ...            ...                 ...       ...   \n",
       "15204661            140             62                 254  Umraniye   \n",
       "15205044            103             35                 472  Umraniye   \n",
       "15212099            107             43                 566  Umraniye   \n",
       "15219785            117             71                  98  Umraniye   \n",
       "15219970            132             67                 240  Umraniye   \n",
       "\n",
       "              city      rlat     rlong  \n",
       "44        Istanbul  41.01643  29.12476  \n",
       "443       Istanbul  41.01643  29.12476  \n",
       "1582      Istanbul  41.01643  29.12476  \n",
       "6100      Istanbul  41.01643  29.12476  \n",
       "7728      Istanbul  41.01643  29.12476  \n",
       "...            ...       ...       ...  \n",
       "15204661  Istanbul  41.01643  29.12476  \n",
       "15205044  Istanbul  41.01643  29.12476  \n",
       "15212099  Istanbul  41.01643  29.12476  \n",
       "15219785  Istanbul  41.01643  29.12476  \n",
       "15219970  Istanbul  41.01643  29.12476  \n",
       "\n",
       "[8573 rows x 12 columns]"
      ]
     },
     "execution_count": 367,
     "metadata": {},
     "output_type": "execute_result"
    }
   ],
   "source": [
    "traffic"
   ]
  },
  {
   "cell_type": "markdown",
   "id": "8718361c",
   "metadata": {},
   "source": [
    "We merge our datasets."
   ]
  },
  {
   "cell_type": "code",
   "execution_count": 368,
   "id": "1a9fb48e",
   "metadata": {},
   "outputs": [],
   "source": [
    "merged = traffic.merge(weather1, on='DATE_TIME', how='left')"
   ]
  },
  {
   "cell_type": "code",
   "execution_count": 369,
   "id": "3ae8dee6",
   "metadata": {
    "scrolled": true
   },
   "outputs": [
    {
     "data": {
      "text/html": [
       "<div>\n",
       "<style scoped>\n",
       "    .dataframe tbody tr th:only-of-type {\n",
       "        vertical-align: middle;\n",
       "    }\n",
       "\n",
       "    .dataframe tbody tr th {\n",
       "        vertical-align: top;\n",
       "    }\n",
       "\n",
       "    .dataframe thead th {\n",
       "        text-align: right;\n",
       "    }\n",
       "</style>\n",
       "<table border=\"1\" class=\"dataframe\">\n",
       "  <thead>\n",
       "    <tr style=\"text-align: right;\">\n",
       "      <th></th>\n",
       "      <th>DATE_TIME</th>\n",
       "      <th>LONGITUDE</th>\n",
       "      <th>LATITUDE</th>\n",
       "      <th>GEOHASH</th>\n",
       "      <th>MINIMUM_SPEED</th>\n",
       "      <th>MAXIMUM_SPEED</th>\n",
       "      <th>AVERAGE_SPEED</th>\n",
       "      <th>NUMBER_OF_VEHICLES</th>\n",
       "      <th>province</th>\n",
       "      <th>city</th>\n",
       "      <th>rlat</th>\n",
       "      <th>rlong</th>\n",
       "      <th>AVERAGE_PRECIPITATION</th>\n",
       "      <th>AVERAGE_ROAD_TEMPERATURE</th>\n",
       "    </tr>\n",
       "  </thead>\n",
       "  <tbody>\n",
       "    <tr>\n",
       "      <th>0</th>\n",
       "      <td>2020-01-21 17:00:00</td>\n",
       "      <td>29.2</td>\n",
       "      <td>41.0</td>\n",
       "      <td>sxk9pw</td>\n",
       "      <td>6</td>\n",
       "      <td>112</td>\n",
       "      <td>29</td>\n",
       "      <td>540</td>\n",
       "      <td>Umraniye</td>\n",
       "      <td>Istanbul</td>\n",
       "      <td>41.01643</td>\n",
       "      <td>29.12476</td>\n",
       "      <td>31.8</td>\n",
       "      <td>6.4</td>\n",
       "    </tr>\n",
       "    <tr>\n",
       "      <th>1</th>\n",
       "      <td>2020-01-14 09:00:00</td>\n",
       "      <td>29.2</td>\n",
       "      <td>41.0</td>\n",
       "      <td>sxk9pw</td>\n",
       "      <td>6</td>\n",
       "      <td>87</td>\n",
       "      <td>31</td>\n",
       "      <td>359</td>\n",
       "      <td>Umraniye</td>\n",
       "      <td>Istanbul</td>\n",
       "      <td>41.01643</td>\n",
       "      <td>29.12476</td>\n",
       "      <td>0.0</td>\n",
       "      <td>10.9</td>\n",
       "    </tr>\n",
       "    <tr>\n",
       "      <th>2</th>\n",
       "      <td>2020-01-23 02:00:00</td>\n",
       "      <td>29.2</td>\n",
       "      <td>41.0</td>\n",
       "      <td>sxk9pw</td>\n",
       "      <td>9</td>\n",
       "      <td>160</td>\n",
       "      <td>72</td>\n",
       "      <td>64</td>\n",
       "      <td>Umraniye</td>\n",
       "      <td>Istanbul</td>\n",
       "      <td>41.01643</td>\n",
       "      <td>29.12476</td>\n",
       "      <td>0.0</td>\n",
       "      <td>6.4</td>\n",
       "    </tr>\n",
       "    <tr>\n",
       "      <th>3</th>\n",
       "      <td>2020-01-17 03:00:00</td>\n",
       "      <td>29.2</td>\n",
       "      <td>41.0</td>\n",
       "      <td>sxk9pw</td>\n",
       "      <td>13</td>\n",
       "      <td>137</td>\n",
       "      <td>72</td>\n",
       "      <td>78</td>\n",
       "      <td>Umraniye</td>\n",
       "      <td>Istanbul</td>\n",
       "      <td>41.01643</td>\n",
       "      <td>29.12476</td>\n",
       "      <td>0.0</td>\n",
       "      <td>6.8</td>\n",
       "    </tr>\n",
       "    <tr>\n",
       "      <th>4</th>\n",
       "      <td>2020-01-28 02:00:00</td>\n",
       "      <td>29.2</td>\n",
       "      <td>41.0</td>\n",
       "      <td>sxk9pw</td>\n",
       "      <td>10</td>\n",
       "      <td>144</td>\n",
       "      <td>68</td>\n",
       "      <td>85</td>\n",
       "      <td>Umraniye</td>\n",
       "      <td>Istanbul</td>\n",
       "      <td>41.01643</td>\n",
       "      <td>29.12476</td>\n",
       "      <td>0.0</td>\n",
       "      <td>10.3</td>\n",
       "    </tr>\n",
       "    <tr>\n",
       "      <th>...</th>\n",
       "      <td>...</td>\n",
       "      <td>...</td>\n",
       "      <td>...</td>\n",
       "      <td>...</td>\n",
       "      <td>...</td>\n",
       "      <td>...</td>\n",
       "      <td>...</td>\n",
       "      <td>...</td>\n",
       "      <td>...</td>\n",
       "      <td>...</td>\n",
       "      <td>...</td>\n",
       "      <td>...</td>\n",
       "      <td>...</td>\n",
       "      <td>...</td>\n",
       "    </tr>\n",
       "    <tr>\n",
       "      <th>8568</th>\n",
       "      <td>2020-12-26 13:00:00</td>\n",
       "      <td>29.2</td>\n",
       "      <td>41.0</td>\n",
       "      <td>sxk9pw</td>\n",
       "      <td>6</td>\n",
       "      <td>140</td>\n",
       "      <td>62</td>\n",
       "      <td>254</td>\n",
       "      <td>Umraniye</td>\n",
       "      <td>Istanbul</td>\n",
       "      <td>41.01643</td>\n",
       "      <td>29.12476</td>\n",
       "      <td>33.9</td>\n",
       "      <td>16.4</td>\n",
       "    </tr>\n",
       "    <tr>\n",
       "      <th>8569</th>\n",
       "      <td>2020-12-07 19:00:00</td>\n",
       "      <td>29.2</td>\n",
       "      <td>41.0</td>\n",
       "      <td>sxk9pw</td>\n",
       "      <td>6</td>\n",
       "      <td>103</td>\n",
       "      <td>35</td>\n",
       "      <td>472</td>\n",
       "      <td>Umraniye</td>\n",
       "      <td>Istanbul</td>\n",
       "      <td>41.01643</td>\n",
       "      <td>29.12476</td>\n",
       "      <td>0.0</td>\n",
       "      <td>10.9</td>\n",
       "    </tr>\n",
       "    <tr>\n",
       "      <th>8570</th>\n",
       "      <td>2020-12-25 09:00:00</td>\n",
       "      <td>29.2</td>\n",
       "      <td>41.0</td>\n",
       "      <td>sxk9pw</td>\n",
       "      <td>6</td>\n",
       "      <td>107</td>\n",
       "      <td>43</td>\n",
       "      <td>566</td>\n",
       "      <td>Umraniye</td>\n",
       "      <td>Istanbul</td>\n",
       "      <td>41.01643</td>\n",
       "      <td>29.12476</td>\n",
       "      <td>18.0</td>\n",
       "      <td>17.2</td>\n",
       "    </tr>\n",
       "    <tr>\n",
       "      <th>8571</th>\n",
       "      <td>2020-12-12 21:00:00</td>\n",
       "      <td>29.2</td>\n",
       "      <td>41.0</td>\n",
       "      <td>sxk9pw</td>\n",
       "      <td>10</td>\n",
       "      <td>117</td>\n",
       "      <td>71</td>\n",
       "      <td>98</td>\n",
       "      <td>Umraniye</td>\n",
       "      <td>Istanbul</td>\n",
       "      <td>41.01643</td>\n",
       "      <td>29.12476</td>\n",
       "      <td>0.0</td>\n",
       "      <td>11.0</td>\n",
       "    </tr>\n",
       "    <tr>\n",
       "      <th>8572</th>\n",
       "      <td>2020-12-05 06:00:00</td>\n",
       "      <td>29.2</td>\n",
       "      <td>41.0</td>\n",
       "      <td>sxk9pw</td>\n",
       "      <td>6</td>\n",
       "      <td>132</td>\n",
       "      <td>67</td>\n",
       "      <td>240</td>\n",
       "      <td>Umraniye</td>\n",
       "      <td>Istanbul</td>\n",
       "      <td>41.01643</td>\n",
       "      <td>29.12476</td>\n",
       "      <td>0.0</td>\n",
       "      <td>9.6</td>\n",
       "    </tr>\n",
       "  </tbody>\n",
       "</table>\n",
       "<p>8573 rows × 14 columns</p>\n",
       "</div>"
      ],
      "text/plain": [
       "                DATE_TIME  LONGITUDE  LATITUDE GEOHASH  MINIMUM_SPEED  \\\n",
       "0     2020-01-21 17:00:00       29.2      41.0  sxk9pw              6   \n",
       "1     2020-01-14 09:00:00       29.2      41.0  sxk9pw              6   \n",
       "2     2020-01-23 02:00:00       29.2      41.0  sxk9pw              9   \n",
       "3     2020-01-17 03:00:00       29.2      41.0  sxk9pw             13   \n",
       "4     2020-01-28 02:00:00       29.2      41.0  sxk9pw             10   \n",
       "...                   ...        ...       ...     ...            ...   \n",
       "8568  2020-12-26 13:00:00       29.2      41.0  sxk9pw              6   \n",
       "8569  2020-12-07 19:00:00       29.2      41.0  sxk9pw              6   \n",
       "8570  2020-12-25 09:00:00       29.2      41.0  sxk9pw              6   \n",
       "8571  2020-12-12 21:00:00       29.2      41.0  sxk9pw             10   \n",
       "8572  2020-12-05 06:00:00       29.2      41.0  sxk9pw              6   \n",
       "\n",
       "      MAXIMUM_SPEED  AVERAGE_SPEED  NUMBER_OF_VEHICLES  province      city  \\\n",
       "0               112             29                 540  Umraniye  Istanbul   \n",
       "1                87             31                 359  Umraniye  Istanbul   \n",
       "2               160             72                  64  Umraniye  Istanbul   \n",
       "3               137             72                  78  Umraniye  Istanbul   \n",
       "4               144             68                  85  Umraniye  Istanbul   \n",
       "...             ...            ...                 ...       ...       ...   \n",
       "8568            140             62                 254  Umraniye  Istanbul   \n",
       "8569            103             35                 472  Umraniye  Istanbul   \n",
       "8570            107             43                 566  Umraniye  Istanbul   \n",
       "8571            117             71                  98  Umraniye  Istanbul   \n",
       "8572            132             67                 240  Umraniye  Istanbul   \n",
       "\n",
       "          rlat     rlong  AVERAGE_PRECIPITATION  AVERAGE_ROAD_TEMPERATURE  \n",
       "0     41.01643  29.12476                   31.8                       6.4  \n",
       "1     41.01643  29.12476                    0.0                      10.9  \n",
       "2     41.01643  29.12476                    0.0                       6.4  \n",
       "3     41.01643  29.12476                    0.0                       6.8  \n",
       "4     41.01643  29.12476                    0.0                      10.3  \n",
       "...        ...       ...                    ...                       ...  \n",
       "8568  41.01643  29.12476                   33.9                      16.4  \n",
       "8569  41.01643  29.12476                    0.0                      10.9  \n",
       "8570  41.01643  29.12476                   18.0                      17.2  \n",
       "8571  41.01643  29.12476                    0.0                      11.0  \n",
       "8572  41.01643  29.12476                    0.0                       9.6  \n",
       "\n",
       "[8573 rows x 14 columns]"
      ]
     },
     "execution_count": 369,
     "metadata": {},
     "output_type": "execute_result"
    }
   ],
   "source": [
    "merged"
   ]
  },
  {
   "cell_type": "code",
   "execution_count": 370,
   "id": "9577839b",
   "metadata": {},
   "outputs": [],
   "source": [
    "merged=merged.set_index('DATE_TIME')"
   ]
  },
  {
   "cell_type": "code",
   "execution_count": 371,
   "id": "22d074ab",
   "metadata": {},
   "outputs": [],
   "source": [
    "merged = merged.reset_index()"
   ]
  },
  {
   "cell_type": "code",
   "execution_count": 372,
   "id": "4055a958",
   "metadata": {},
   "outputs": [],
   "source": [
    "import datetime\n",
    "from datetime import datetime"
   ]
  },
  {
   "cell_type": "code",
   "execution_count": 373,
   "id": "05855fdf",
   "metadata": {},
   "outputs": [],
   "source": [
    "merged['DATE_TIME'] = pd.to_datetime(merged['DATE_TIME'])\n",
    "merged['DAY_OF_WEEK'] = merged['DATE_TIME'].dt.day_name()\n",
    "merged['HOUR_OF_DAY'] = merged['DATE_TIME'].dt.hour\n",
    "merged['HOUR_OF_DAY'] = merged['HOUR_OF_DAY'].astype(str)\n"
   ]
  },
  {
   "cell_type": "code",
   "execution_count": 374,
   "id": "adf91f92",
   "metadata": {
    "scrolled": true
   },
   "outputs": [
    {
     "data": {
      "text/html": [
       "<div>\n",
       "<style scoped>\n",
       "    .dataframe tbody tr th:only-of-type {\n",
       "        vertical-align: middle;\n",
       "    }\n",
       "\n",
       "    .dataframe tbody tr th {\n",
       "        vertical-align: top;\n",
       "    }\n",
       "\n",
       "    .dataframe thead th {\n",
       "        text-align: right;\n",
       "    }\n",
       "</style>\n",
       "<table border=\"1\" class=\"dataframe\">\n",
       "  <thead>\n",
       "    <tr style=\"text-align: right;\">\n",
       "      <th></th>\n",
       "      <th>DATE_TIME</th>\n",
       "      <th>LONGITUDE</th>\n",
       "      <th>LATITUDE</th>\n",
       "      <th>GEOHASH</th>\n",
       "      <th>MINIMUM_SPEED</th>\n",
       "      <th>MAXIMUM_SPEED</th>\n",
       "      <th>AVERAGE_SPEED</th>\n",
       "      <th>NUMBER_OF_VEHICLES</th>\n",
       "      <th>province</th>\n",
       "      <th>city</th>\n",
       "      <th>rlat</th>\n",
       "      <th>rlong</th>\n",
       "      <th>AVERAGE_PRECIPITATION</th>\n",
       "      <th>AVERAGE_ROAD_TEMPERATURE</th>\n",
       "      <th>DAY_OF_WEEK</th>\n",
       "      <th>HOUR_OF_DAY</th>\n",
       "    </tr>\n",
       "  </thead>\n",
       "  <tbody>\n",
       "    <tr>\n",
       "      <th>0</th>\n",
       "      <td>2020-01-21 17:00:00</td>\n",
       "      <td>29.2</td>\n",
       "      <td>41.0</td>\n",
       "      <td>sxk9pw</td>\n",
       "      <td>6</td>\n",
       "      <td>112</td>\n",
       "      <td>29</td>\n",
       "      <td>540</td>\n",
       "      <td>Umraniye</td>\n",
       "      <td>Istanbul</td>\n",
       "      <td>41.01643</td>\n",
       "      <td>29.12476</td>\n",
       "      <td>31.8</td>\n",
       "      <td>6.4</td>\n",
       "      <td>Tuesday</td>\n",
       "      <td>17</td>\n",
       "    </tr>\n",
       "    <tr>\n",
       "      <th>1</th>\n",
       "      <td>2020-01-14 09:00:00</td>\n",
       "      <td>29.2</td>\n",
       "      <td>41.0</td>\n",
       "      <td>sxk9pw</td>\n",
       "      <td>6</td>\n",
       "      <td>87</td>\n",
       "      <td>31</td>\n",
       "      <td>359</td>\n",
       "      <td>Umraniye</td>\n",
       "      <td>Istanbul</td>\n",
       "      <td>41.01643</td>\n",
       "      <td>29.12476</td>\n",
       "      <td>0.0</td>\n",
       "      <td>10.9</td>\n",
       "      <td>Tuesday</td>\n",
       "      <td>9</td>\n",
       "    </tr>\n",
       "    <tr>\n",
       "      <th>2</th>\n",
       "      <td>2020-01-23 02:00:00</td>\n",
       "      <td>29.2</td>\n",
       "      <td>41.0</td>\n",
       "      <td>sxk9pw</td>\n",
       "      <td>9</td>\n",
       "      <td>160</td>\n",
       "      <td>72</td>\n",
       "      <td>64</td>\n",
       "      <td>Umraniye</td>\n",
       "      <td>Istanbul</td>\n",
       "      <td>41.01643</td>\n",
       "      <td>29.12476</td>\n",
       "      <td>0.0</td>\n",
       "      <td>6.4</td>\n",
       "      <td>Thursday</td>\n",
       "      <td>2</td>\n",
       "    </tr>\n",
       "    <tr>\n",
       "      <th>3</th>\n",
       "      <td>2020-01-17 03:00:00</td>\n",
       "      <td>29.2</td>\n",
       "      <td>41.0</td>\n",
       "      <td>sxk9pw</td>\n",
       "      <td>13</td>\n",
       "      <td>137</td>\n",
       "      <td>72</td>\n",
       "      <td>78</td>\n",
       "      <td>Umraniye</td>\n",
       "      <td>Istanbul</td>\n",
       "      <td>41.01643</td>\n",
       "      <td>29.12476</td>\n",
       "      <td>0.0</td>\n",
       "      <td>6.8</td>\n",
       "      <td>Friday</td>\n",
       "      <td>3</td>\n",
       "    </tr>\n",
       "    <tr>\n",
       "      <th>4</th>\n",
       "      <td>2020-01-28 02:00:00</td>\n",
       "      <td>29.2</td>\n",
       "      <td>41.0</td>\n",
       "      <td>sxk9pw</td>\n",
       "      <td>10</td>\n",
       "      <td>144</td>\n",
       "      <td>68</td>\n",
       "      <td>85</td>\n",
       "      <td>Umraniye</td>\n",
       "      <td>Istanbul</td>\n",
       "      <td>41.01643</td>\n",
       "      <td>29.12476</td>\n",
       "      <td>0.0</td>\n",
       "      <td>10.3</td>\n",
       "      <td>Tuesday</td>\n",
       "      <td>2</td>\n",
       "    </tr>\n",
       "    <tr>\n",
       "      <th>...</th>\n",
       "      <td>...</td>\n",
       "      <td>...</td>\n",
       "      <td>...</td>\n",
       "      <td>...</td>\n",
       "      <td>...</td>\n",
       "      <td>...</td>\n",
       "      <td>...</td>\n",
       "      <td>...</td>\n",
       "      <td>...</td>\n",
       "      <td>...</td>\n",
       "      <td>...</td>\n",
       "      <td>...</td>\n",
       "      <td>...</td>\n",
       "      <td>...</td>\n",
       "      <td>...</td>\n",
       "      <td>...</td>\n",
       "    </tr>\n",
       "    <tr>\n",
       "      <th>8568</th>\n",
       "      <td>2020-12-26 13:00:00</td>\n",
       "      <td>29.2</td>\n",
       "      <td>41.0</td>\n",
       "      <td>sxk9pw</td>\n",
       "      <td>6</td>\n",
       "      <td>140</td>\n",
       "      <td>62</td>\n",
       "      <td>254</td>\n",
       "      <td>Umraniye</td>\n",
       "      <td>Istanbul</td>\n",
       "      <td>41.01643</td>\n",
       "      <td>29.12476</td>\n",
       "      <td>33.9</td>\n",
       "      <td>16.4</td>\n",
       "      <td>Saturday</td>\n",
       "      <td>13</td>\n",
       "    </tr>\n",
       "    <tr>\n",
       "      <th>8569</th>\n",
       "      <td>2020-12-07 19:00:00</td>\n",
       "      <td>29.2</td>\n",
       "      <td>41.0</td>\n",
       "      <td>sxk9pw</td>\n",
       "      <td>6</td>\n",
       "      <td>103</td>\n",
       "      <td>35</td>\n",
       "      <td>472</td>\n",
       "      <td>Umraniye</td>\n",
       "      <td>Istanbul</td>\n",
       "      <td>41.01643</td>\n",
       "      <td>29.12476</td>\n",
       "      <td>0.0</td>\n",
       "      <td>10.9</td>\n",
       "      <td>Monday</td>\n",
       "      <td>19</td>\n",
       "    </tr>\n",
       "    <tr>\n",
       "      <th>8570</th>\n",
       "      <td>2020-12-25 09:00:00</td>\n",
       "      <td>29.2</td>\n",
       "      <td>41.0</td>\n",
       "      <td>sxk9pw</td>\n",
       "      <td>6</td>\n",
       "      <td>107</td>\n",
       "      <td>43</td>\n",
       "      <td>566</td>\n",
       "      <td>Umraniye</td>\n",
       "      <td>Istanbul</td>\n",
       "      <td>41.01643</td>\n",
       "      <td>29.12476</td>\n",
       "      <td>18.0</td>\n",
       "      <td>17.2</td>\n",
       "      <td>Friday</td>\n",
       "      <td>9</td>\n",
       "    </tr>\n",
       "    <tr>\n",
       "      <th>8571</th>\n",
       "      <td>2020-12-12 21:00:00</td>\n",
       "      <td>29.2</td>\n",
       "      <td>41.0</td>\n",
       "      <td>sxk9pw</td>\n",
       "      <td>10</td>\n",
       "      <td>117</td>\n",
       "      <td>71</td>\n",
       "      <td>98</td>\n",
       "      <td>Umraniye</td>\n",
       "      <td>Istanbul</td>\n",
       "      <td>41.01643</td>\n",
       "      <td>29.12476</td>\n",
       "      <td>0.0</td>\n",
       "      <td>11.0</td>\n",
       "      <td>Saturday</td>\n",
       "      <td>21</td>\n",
       "    </tr>\n",
       "    <tr>\n",
       "      <th>8572</th>\n",
       "      <td>2020-12-05 06:00:00</td>\n",
       "      <td>29.2</td>\n",
       "      <td>41.0</td>\n",
       "      <td>sxk9pw</td>\n",
       "      <td>6</td>\n",
       "      <td>132</td>\n",
       "      <td>67</td>\n",
       "      <td>240</td>\n",
       "      <td>Umraniye</td>\n",
       "      <td>Istanbul</td>\n",
       "      <td>41.01643</td>\n",
       "      <td>29.12476</td>\n",
       "      <td>0.0</td>\n",
       "      <td>9.6</td>\n",
       "      <td>Saturday</td>\n",
       "      <td>6</td>\n",
       "    </tr>\n",
       "  </tbody>\n",
       "</table>\n",
       "<p>5766 rows × 16 columns</p>\n",
       "</div>"
      ],
      "text/plain": [
       "               DATE_TIME  LONGITUDE  LATITUDE GEOHASH  MINIMUM_SPEED  \\\n",
       "0    2020-01-21 17:00:00       29.2      41.0  sxk9pw              6   \n",
       "1    2020-01-14 09:00:00       29.2      41.0  sxk9pw              6   \n",
       "2    2020-01-23 02:00:00       29.2      41.0  sxk9pw              9   \n",
       "3    2020-01-17 03:00:00       29.2      41.0  sxk9pw             13   \n",
       "4    2020-01-28 02:00:00       29.2      41.0  sxk9pw             10   \n",
       "...                  ...        ...       ...     ...            ...   \n",
       "8568 2020-12-26 13:00:00       29.2      41.0  sxk9pw              6   \n",
       "8569 2020-12-07 19:00:00       29.2      41.0  sxk9pw              6   \n",
       "8570 2020-12-25 09:00:00       29.2      41.0  sxk9pw              6   \n",
       "8571 2020-12-12 21:00:00       29.2      41.0  sxk9pw             10   \n",
       "8572 2020-12-05 06:00:00       29.2      41.0  sxk9pw              6   \n",
       "\n",
       "      MAXIMUM_SPEED  AVERAGE_SPEED  NUMBER_OF_VEHICLES  province      city  \\\n",
       "0               112             29                 540  Umraniye  Istanbul   \n",
       "1                87             31                 359  Umraniye  Istanbul   \n",
       "2               160             72                  64  Umraniye  Istanbul   \n",
       "3               137             72                  78  Umraniye  Istanbul   \n",
       "4               144             68                  85  Umraniye  Istanbul   \n",
       "...             ...            ...                 ...       ...       ...   \n",
       "8568            140             62                 254  Umraniye  Istanbul   \n",
       "8569            103             35                 472  Umraniye  Istanbul   \n",
       "8570            107             43                 566  Umraniye  Istanbul   \n",
       "8571            117             71                  98  Umraniye  Istanbul   \n",
       "8572            132             67                 240  Umraniye  Istanbul   \n",
       "\n",
       "          rlat     rlong  AVERAGE_PRECIPITATION  AVERAGE_ROAD_TEMPERATURE  \\\n",
       "0     41.01643  29.12476                   31.8                       6.4   \n",
       "1     41.01643  29.12476                    0.0                      10.9   \n",
       "2     41.01643  29.12476                    0.0                       6.4   \n",
       "3     41.01643  29.12476                    0.0                       6.8   \n",
       "4     41.01643  29.12476                    0.0                      10.3   \n",
       "...        ...       ...                    ...                       ...   \n",
       "8568  41.01643  29.12476                   33.9                      16.4   \n",
       "8569  41.01643  29.12476                    0.0                      10.9   \n",
       "8570  41.01643  29.12476                   18.0                      17.2   \n",
       "8571  41.01643  29.12476                    0.0                      11.0   \n",
       "8572  41.01643  29.12476                    0.0                       9.6   \n",
       "\n",
       "     DAY_OF_WEEK HOUR_OF_DAY  \n",
       "0        Tuesday          17  \n",
       "1        Tuesday           9  \n",
       "2       Thursday           2  \n",
       "3         Friday           3  \n",
       "4        Tuesday           2  \n",
       "...          ...         ...  \n",
       "8568    Saturday          13  \n",
       "8569      Monday          19  \n",
       "8570      Friday           9  \n",
       "8571    Saturday          21  \n",
       "8572    Saturday           6  \n",
       "\n",
       "[5766 rows x 16 columns]"
      ]
     },
     "execution_count": 374,
     "metadata": {},
     "output_type": "execute_result"
    }
   ],
   "source": [
    "merged=merged[(merged['AVERAGE_PRECIPITATION']>=0)]\n",
    "merged"
   ]
  },
  {
   "cell_type": "markdown",
   "id": "0222cf57",
   "metadata": {},
   "source": [
    "We can see that working hours have much greater values than off hours."
   ]
  },
  {
   "cell_type": "code",
   "execution_count": 375,
   "id": "2f90aa63",
   "metadata": {
    "scrolled": false
   },
   "outputs": [
    {
     "data": {
      "text/plain": [
       "<AxesSubplot:xlabel='HOUR_OF_DAY', ylabel='NUMBER_OF_VEHICLES'>"
      ]
     },
     "execution_count": 375,
     "metadata": {},
     "output_type": "execute_result"
    },
    {
     "data": {
      "image/png": "[encoded data removed]",
      "text/plain": [
       "<Figure size 432x288 with 1 Axes>"
      ]
     },
     "metadata": {
      "needs_background": "light"
     },
     "output_type": "display_data"
    }
   ],
   "source": [
    "sns.lineplot(data=merged, x='HOUR_OF_DAY', y='NUMBER_OF_VEHICLES')"
   ]
  },
  {
   "cell_type": "markdown",
   "id": "ecf4b978",
   "metadata": {},
   "source": [
    "Weekdays have greater densities."
   ]
  },
  {
   "cell_type": "code",
   "execution_count": 376,
   "id": "6b4a2849",
   "metadata": {
    "scrolled": true
   },
   "outputs": [
    {
     "data": {
      "text/plain": [
       "<AxesSubplot:xlabel='DAY_OF_WEEK', ylabel='NUMBER_OF_VEHICLES'>"
      ]
     },
     "execution_count": 376,
     "metadata": {},
     "output_type": "execute_result"
    },
    {
     "data": {
      "image/png": "[encoded data removed]",
      "text/plain": [
       "<Figure size 432x288 with 1 Axes>"
      ]
     },
     "metadata": {
      "needs_background": "light"
     },
     "output_type": "display_data"
    }
   ],
   "source": [
    "sns.lineplot(data=merged, x='DAY_OF_WEEK', y='NUMBER_OF_VEHICLES')"
   ]
  },
  {
   "cell_type": "markdown",
   "id": "ba94ab32",
   "metadata": {},
   "source": [
    "Average precipitation is a factor, but hours are more effective."
   ]
  },
  {
   "cell_type": "code",
   "execution_count": 377,
   "id": "36a5f608",
   "metadata": {
    "scrolled": true
   },
   "outputs": [
    {
     "data": {
      "text/plain": [
       "<AxesSubplot:xlabel='AVERAGE_PRECIPITATION', ylabel='NUMBER_OF_VEHICLES'>"
      ]
     },
     "execution_count": 377,
     "metadata": {},
     "output_type": "execute_result"
    },
    {
     "data": {
      "image/png": "[encoded data removed]",
      "text/plain": [
       "<Figure size 432x288 with 1 Axes>"
      ]
     },
     "metadata": {
      "needs_background": "light"
     },
     "output_type": "display_data"
    }
   ],
   "source": [
    "sns.lineplot(data=merged, x='AVERAGE_PRECIPITATION', y='NUMBER_OF_VEHICLES')"
   ]
  },
  {
   "cell_type": "markdown",
   "id": "f8fa879e",
   "metadata": {},
   "source": [
    "We can see that at lower temperatures traffic density is higher"
   ]
  },
  {
   "cell_type": "code",
   "execution_count": 378,
   "id": "d1446623",
   "metadata": {},
   "outputs": [
    {
     "data": {
      "text/plain": [
       "<AxesSubplot:xlabel='AVERAGE_ROAD_TEMPERATURE', ylabel='NUMBER_OF_VEHICLES'>"
      ]
     },
     "execution_count": 378,
     "metadata": {},
     "output_type": "execute_result"
    },
    {
     "data": {
      "image/png": "[encoded data removed]",
      "text/plain": [
       "<Figure size 432x288 with 1 Axes>"
      ]
     },
     "metadata": {
      "needs_background": "light"
     },
     "output_type": "display_data"
    }
   ],
   "source": [
    "sns.scatterplot(data=merged, x='AVERAGE_ROAD_TEMPERATURE', y='NUMBER_OF_VEHICLES')"
   ]
  },
  {
   "cell_type": "code",
   "execution_count": 379,
   "id": "c5939239",
   "metadata": {},
   "outputs": [],
   "source": [
    "merged.dropna(axis=0, how='any', inplace=True)"
   ]
  },
  {
   "cell_type": "code",
   "execution_count": 380,
   "id": "293aacea",
   "metadata": {},
   "outputs": [
    {
     "data": {
      "text/plain": [
       "Index(['DATE_TIME', 'LONGITUDE', 'LATITUDE', 'GEOHASH', 'MINIMUM_SPEED',\n",
       "       'MAXIMUM_SPEED', 'AVERAGE_SPEED', 'NUMBER_OF_VEHICLES', 'province',\n",
       "       'city', 'rlat', 'rlong', 'AVERAGE_PRECIPITATION',\n",
       "       'AVERAGE_ROAD_TEMPERATURE', 'DAY_OF_WEEK', 'HOUR_OF_DAY'],\n",
       "      dtype='object')"
      ]
     },
     "execution_count": 380,
     "metadata": {},
     "output_type": "execute_result"
    }
   ],
   "source": [
    "merged.columns"
   ]
  },
  {
   "cell_type": "code",
   "execution_count": 381,
   "id": "e21f1d6a",
   "metadata": {},
   "outputs": [],
   "source": [
    "merged1 = merged[['HOUR_OF_DAY','DAY_OF_WEEK','AVERAGE_ROAD_TEMPERATURE','AVERAGE_PRECIPITATION','NUMBER_OF_VEHICLES']]"
   ]
  },
  {
   "cell_type": "code",
   "execution_count": 382,
   "id": "3712715c",
   "metadata": {
    "scrolled": true
   },
   "outputs": [
    {
     "name": "stderr",
     "output_type": "stream",
     "text": [
      "C:\\Users\\PIT80\\anaconda3\\lib\\site-packages\\pandas\\util\\_decorators.py:311: SettingWithCopyWarning: \n",
      "A value is trying to be set on a copy of a slice from a DataFrame\n",
      "\n",
      "See the caveats in the documentation: https://pandas.pydata.org/pandas-docs/stable/user_guide/indexing.html#returning-a-view-versus-a-copy\n",
      "  return func(*args, **kwargs)\n"
     ]
    }
   ],
   "source": [
    "merged1.dropna(axis=0, how='any', inplace=True)"
   ]
  },
  {
   "cell_type": "code",
   "execution_count": 383,
   "id": "04af31ae",
   "metadata": {
    "scrolled": false
   },
   "outputs": [
    {
     "data": {
      "text/plain": [
       "HOUR_OF_DAY                 0\n",
       "DAY_OF_WEEK                 0\n",
       "AVERAGE_ROAD_TEMPERATURE    0\n",
       "AVERAGE_PRECIPITATION       0\n",
       "NUMBER_OF_VEHICLES          0\n",
       "dtype: int64"
      ]
     },
     "execution_count": 383,
     "metadata": {},
     "output_type": "execute_result"
    }
   ],
   "source": [
    "merged1.isnull().sum()"
   ]
  },
  {
   "cell_type": "markdown",
   "id": "a0817ecc",
   "metadata": {},
   "source": [
    "We dummify our categorical variables."
   ]
  },
  {
   "cell_type": "code",
   "execution_count": 384,
   "id": "be279301",
   "metadata": {},
   "outputs": [],
   "source": [
    "merged1 = pd.get_dummies(merged1)"
   ]
  },
  {
   "cell_type": "code",
   "execution_count": 385,
   "id": "7631ed6e",
   "metadata": {},
   "outputs": [
    {
     "data": {
      "text/plain": [
       "0"
      ]
     },
     "execution_count": 385,
     "metadata": {},
     "output_type": "execute_result"
    }
   ],
   "source": [
    "merged1.AVERAGE_PRECIPITATION.isnull().sum()"
   ]
  },
  {
   "cell_type": "code",
   "execution_count": 386,
   "id": "fb7a49a2",
   "metadata": {
    "scrolled": true
   },
   "outputs": [
    {
     "data": {
      "text/plain": [
       "Index(['AVERAGE_ROAD_TEMPERATURE', 'AVERAGE_PRECIPITATION',\n",
       "       'NUMBER_OF_VEHICLES', 'HOUR_OF_DAY_0', 'HOUR_OF_DAY_1',\n",
       "       'HOUR_OF_DAY_10', 'HOUR_OF_DAY_11', 'HOUR_OF_DAY_12', 'HOUR_OF_DAY_13',\n",
       "       'HOUR_OF_DAY_14', 'HOUR_OF_DAY_15', 'HOUR_OF_DAY_16', 'HOUR_OF_DAY_17',\n",
       "       'HOUR_OF_DAY_18', 'HOUR_OF_DAY_19', 'HOUR_OF_DAY_2', 'HOUR_OF_DAY_20',\n",
       "       'HOUR_OF_DAY_21', 'HOUR_OF_DAY_22', 'HOUR_OF_DAY_23', 'HOUR_OF_DAY_3',\n",
       "       'HOUR_OF_DAY_4', 'HOUR_OF_DAY_5', 'HOUR_OF_DAY_6', 'HOUR_OF_DAY_7',\n",
       "       'HOUR_OF_DAY_8', 'HOUR_OF_DAY_9', 'DAY_OF_WEEK_Friday',\n",
       "       'DAY_OF_WEEK_Monday', 'DAY_OF_WEEK_Saturday', 'DAY_OF_WEEK_Sunday',\n",
       "       'DAY_OF_WEEK_Thursday', 'DAY_OF_WEEK_Tuesday', 'DAY_OF_WEEK_Wednesday'],\n",
       "      dtype='object')"
      ]
     },
     "execution_count": 386,
     "metadata": {},
     "output_type": "execute_result"
    }
   ],
   "source": [
    "merged1.columns"
   ]
  },
  {
   "cell_type": "code",
   "execution_count": 387,
   "id": "bdc8e9cc",
   "metadata": {
    "scrolled": true
   },
   "outputs": [
    {
     "data": {
      "text/plain": [
       "0       540\n",
       "1       359\n",
       "2        64\n",
       "3        78\n",
       "4        85\n",
       "       ... \n",
       "8568    254\n",
       "8569    472\n",
       "8570    566\n",
       "8571     98\n",
       "8572    240\n",
       "Name: NUMBER_OF_VEHICLES, Length: 5766, dtype: int64"
      ]
     },
     "execution_count": 387,
     "metadata": {},
     "output_type": "execute_result"
    }
   ],
   "source": [
    "merged1['NUMBER_OF_VEHICLES']"
   ]
  },
  {
   "cell_type": "markdown",
   "id": "513f8f65",
   "metadata": {},
   "source": [
    "## LINEAR REGRESSION WITH TENSORFLOW LINEAR REGRESSION"
   ]
  },
  {
   "cell_type": "code",
   "execution_count": 270,
   "id": "9a28bc48",
   "metadata": {
    "scrolled": true
   },
   "outputs": [],
   "source": [
    "#@title Import modules\n",
    "import numpy as np\n",
    "import pandas as pd\n",
    "import tensorflow as tf\n",
    "from matplotlib import pyplot as plt\n",
    "\n",
    "pd.options.display.max_rows = 10\n",
    "pd.options.display.float_format = \"{:.1f}\".format"
   ]
  },
  {
   "cell_type": "code",
   "execution_count": 271,
   "id": "ca58331d",
   "metadata": {},
   "outputs": [],
   "source": [
    "from sklearn.preprocessing import StandardScaler"
   ]
  },
  {
   "cell_type": "code",
   "execution_count": 272,
   "id": "31122d6b",
   "metadata": {},
   "outputs": [],
   "source": [
    "from tensorflow.keras import layers"
   ]
  },
  {
   "cell_type": "code",
   "execution_count": 273,
   "id": "af8e9fb8",
   "metadata": {},
   "outputs": [],
   "source": [
    "from tensorflow import keras"
   ]
  },
  {
   "cell_type": "code",
   "execution_count": 274,
   "id": "a67a726e",
   "metadata": {
    "scrolled": true
   },
   "outputs": [],
   "source": [
    "train_dataset = merged1.sample(frac=0.8, random_state=42)\n",
    "test_dataset = merged1.drop(train_dataset.index)"
   ]
  },
  {
   "cell_type": "code",
   "execution_count": 275,
   "id": "d6c31756",
   "metadata": {},
   "outputs": [],
   "source": [
    "train_features = train_dataset.copy()\n",
    "test_features = test_dataset.copy()\n",
    "\n",
    "train_labels = train_features.pop('NUMBER_OF_VEHICLES')\n",
    "test_labels = test_features.pop('NUMBER_OF_VEHICLES')"
   ]
  },
  {
   "cell_type": "code",
   "execution_count": 276,
   "id": "11ba27d8",
   "metadata": {},
   "outputs": [],
   "source": [
    "train_features = train_features.astype(float)\n",
    "test_features = test_features.astype(float)\n",
    "train_labels = train_labels.astype(float)\n",
    "test_labels = test_labels.astype(float)\n"
   ]
  },
  {
   "cell_type": "code",
   "execution_count": 277,
   "id": "b4b1f036",
   "metadata": {},
   "outputs": [
    {
     "data": {
      "text/plain": [
       "AVERAGE_ROAD_TEMPERATURE    float64\n",
       "AVERAGE_PRECIPITATION       float64\n",
       "HOUR_OF_DAY_0               float64\n",
       "HOUR_OF_DAY_1               float64\n",
       "HOUR_OF_DAY_10              float64\n",
       "                             ...   \n",
       "DAY_OF_WEEK_Saturday        float64\n",
       "DAY_OF_WEEK_Sunday          float64\n",
       "DAY_OF_WEEK_Thursday        float64\n",
       "DAY_OF_WEEK_Tuesday         float64\n",
       "DAY_OF_WEEK_Wednesday       float64\n",
       "Length: 33, dtype: object"
      ]
     },
     "execution_count": 277,
     "metadata": {},
     "output_type": "execute_result"
    }
   ],
   "source": [
    "train_features.dtypes"
   ]
  },
  {
   "cell_type": "code",
   "execution_count": 278,
   "id": "32cf539c",
   "metadata": {
    "scrolled": true
   },
   "outputs": [
    {
     "data": {
      "text/html": [
       "<div>\n",
       "<style scoped>\n",
       "    .dataframe tbody tr th:only-of-type {\n",
       "        vertical-align: middle;\n",
       "    }\n",
       "\n",
       "    .dataframe tbody tr th {\n",
       "        vertical-align: top;\n",
       "    }\n",
       "\n",
       "    .dataframe thead th {\n",
       "        text-align: right;\n",
       "    }\n",
       "</style>\n",
       "<table border=\"1\" class=\"dataframe\">\n",
       "  <thead>\n",
       "    <tr style=\"text-align: right;\">\n",
       "      <th></th>\n",
       "      <th>mean</th>\n",
       "      <th>std</th>\n",
       "    </tr>\n",
       "  </thead>\n",
       "  <tbody>\n",
       "    <tr>\n",
       "      <th>AVERAGE_ROAD_TEMPERATURE</th>\n",
       "      <td>17.9</td>\n",
       "      <td>11.0</td>\n",
       "    </tr>\n",
       "    <tr>\n",
       "      <th>AVERAGE_PRECIPITATION</th>\n",
       "      <td>12.1</td>\n",
       "      <td>15.9</td>\n",
       "    </tr>\n",
       "    <tr>\n",
       "      <th>NUMBER_OF_VEHICLES</th>\n",
       "      <td>308.0</td>\n",
       "      <td>156.1</td>\n",
       "    </tr>\n",
       "    <tr>\n",
       "      <th>HOUR_OF_DAY_0</th>\n",
       "      <td>0.0</td>\n",
       "      <td>0.2</td>\n",
       "    </tr>\n",
       "    <tr>\n",
       "      <th>HOUR_OF_DAY_1</th>\n",
       "      <td>0.0</td>\n",
       "      <td>0.2</td>\n",
       "    </tr>\n",
       "    <tr>\n",
       "      <th>...</th>\n",
       "      <td>...</td>\n",
       "      <td>...</td>\n",
       "    </tr>\n",
       "    <tr>\n",
       "      <th>DAY_OF_WEEK_Saturday</th>\n",
       "      <td>0.1</td>\n",
       "      <td>0.4</td>\n",
       "    </tr>\n",
       "    <tr>\n",
       "      <th>DAY_OF_WEEK_Sunday</th>\n",
       "      <td>0.1</td>\n",
       "      <td>0.4</td>\n",
       "    </tr>\n",
       "    <tr>\n",
       "      <th>DAY_OF_WEEK_Thursday</th>\n",
       "      <td>0.1</td>\n",
       "      <td>0.4</td>\n",
       "    </tr>\n",
       "    <tr>\n",
       "      <th>DAY_OF_WEEK_Tuesday</th>\n",
       "      <td>0.1</td>\n",
       "      <td>0.3</td>\n",
       "    </tr>\n",
       "    <tr>\n",
       "      <th>DAY_OF_WEEK_Wednesday</th>\n",
       "      <td>0.1</td>\n",
       "      <td>0.3</td>\n",
       "    </tr>\n",
       "  </tbody>\n",
       "</table>\n",
       "<p>34 rows × 2 columns</p>\n",
       "</div>"
      ],
      "text/plain": [
       "                          mean   std\n",
       "AVERAGE_ROAD_TEMPERATURE  17.9  11.0\n",
       "AVERAGE_PRECIPITATION     12.1  15.9\n",
       "NUMBER_OF_VEHICLES       308.0 156.1\n",
       "HOUR_OF_DAY_0              0.0   0.2\n",
       "HOUR_OF_DAY_1              0.0   0.2\n",
       "...                        ...   ...\n",
       "DAY_OF_WEEK_Saturday       0.1   0.4\n",
       "DAY_OF_WEEK_Sunday         0.1   0.4\n",
       "DAY_OF_WEEK_Thursday       0.1   0.4\n",
       "DAY_OF_WEEK_Tuesday        0.1   0.3\n",
       "DAY_OF_WEEK_Wednesday      0.1   0.3\n",
       "\n",
       "[34 rows x 2 columns]"
      ]
     },
     "execution_count": 278,
     "metadata": {},
     "output_type": "execute_result"
    }
   ],
   "source": [
    "train_dataset.describe().transpose()[['mean', 'std']]"
   ]
  },
  {
   "cell_type": "code",
   "execution_count": 279,
   "id": "142c77e3",
   "metadata": {},
   "outputs": [],
   "source": [
    "normalizer = tf.keras.layers.Normalization(axis=-1)"
   ]
  },
  {
   "cell_type": "code",
   "execution_count": 280,
   "id": "01df4d65",
   "metadata": {},
   "outputs": [],
   "source": [
    "normalizer.adapt(np.array(train_features))"
   ]
  },
  {
   "cell_type": "code",
   "execution_count": 281,
   "id": "b925a140",
   "metadata": {},
   "outputs": [
    {
     "data": {
      "text/html": [
       "<div>\n",
       "<style scoped>\n",
       "    .dataframe tbody tr th:only-of-type {\n",
       "        vertical-align: middle;\n",
       "    }\n",
       "\n",
       "    .dataframe tbody tr th {\n",
       "        vertical-align: top;\n",
       "    }\n",
       "\n",
       "    .dataframe thead th {\n",
       "        text-align: right;\n",
       "    }\n",
       "</style>\n",
       "<table border=\"1\" class=\"dataframe\">\n",
       "  <thead>\n",
       "    <tr style=\"text-align: right;\">\n",
       "      <th></th>\n",
       "      <th>loss</th>\n",
       "      <th>val_loss</th>\n",
       "      <th>epoch</th>\n",
       "    </tr>\n",
       "  </thead>\n",
       "  <tbody>\n",
       "    <tr>\n",
       "      <th>95</th>\n",
       "      <td>41.3</td>\n",
       "      <td>43.5</td>\n",
       "      <td>95</td>\n",
       "    </tr>\n",
       "    <tr>\n",
       "      <th>96</th>\n",
       "      <td>41.3</td>\n",
       "      <td>43.3</td>\n",
       "      <td>96</td>\n",
       "    </tr>\n",
       "    <tr>\n",
       "      <th>97</th>\n",
       "      <td>41.3</td>\n",
       "      <td>43.7</td>\n",
       "      <td>97</td>\n",
       "    </tr>\n",
       "    <tr>\n",
       "      <th>98</th>\n",
       "      <td>41.3</td>\n",
       "      <td>43.6</td>\n",
       "      <td>98</td>\n",
       "    </tr>\n",
       "    <tr>\n",
       "      <th>99</th>\n",
       "      <td>41.3</td>\n",
       "      <td>43.5</td>\n",
       "      <td>99</td>\n",
       "    </tr>\n",
       "  </tbody>\n",
       "</table>\n",
       "</div>"
      ],
      "text/plain": [
       "    loss  val_loss  epoch\n",
       "95  41.3      43.5     95\n",
       "96  41.3      43.3     96\n",
       "97  41.3      43.7     97\n",
       "98  41.3      43.6     98\n",
       "99  41.3      43.5     99"
      ]
     },
     "execution_count": 281,
     "metadata": {},
     "output_type": "execute_result"
    }
   ],
   "source": [
    "hist = pd.DataFrame(history.history)\n",
    "hist['epoch'] = history.epoch\n",
    "hist.tail()"
   ]
  },
  {
   "cell_type": "code",
   "execution_count": 282,
   "id": "7370a6c7",
   "metadata": {},
   "outputs": [
    {
     "name": "stdout",
     "output_type": "stream",
     "text": [
      "[[17.869455   12.070274    0.04140474  0.04162151  0.04097117  0.04205508\n",
      "   0.04335573  0.04205507  0.04140473  0.04032084  0.04118795  0.04140473\n",
      "   0.04400607  0.04313896  0.04097117  0.04205507  0.04335574  0.03988729\n",
      "   0.04053761  0.04292218  0.04248863  0.03945372  0.04227185  0.04227185\n",
      "   0.03880339  0.04205507  0.14459135  0.13938868  0.14914376  0.14957735\n",
      "   0.14762628  0.13592026  0.13375244]]\n"
     ]
    }
   ],
   "source": [
    "print(normalizer.mean.numpy())"
   ]
  },
  {
   "cell_type": "code",
   "execution_count": 283,
   "id": "f61c1163",
   "metadata": {},
   "outputs": [],
   "source": [
    "linear_model = tf.keras.Sequential([\n",
    "    normalizer,\n",
    "    layers.Dense(units=1)\n",
    "])"
   ]
  },
  {
   "cell_type": "code",
   "execution_count": 284,
   "id": "3857153a",
   "metadata": {},
   "outputs": [
    {
     "name": "stdout",
     "output_type": "stream",
     "text": [
      "1/1 [==============================] - 0s 50ms/step\n"
     ]
    },
    {
     "data": {
      "text/plain": [
       "array([[-0.94617623],\n",
       "       [-1.0221086 ],\n",
       "       [ 1.5787247 ],\n",
       "       [ 0.33054793],\n",
       "       [ 0.7260657 ],\n",
       "       [ 0.25664085],\n",
       "       [ 0.01373303],\n",
       "       [-0.3897835 ],\n",
       "       [-1.9251517 ],\n",
       "       [-0.2736559 ],\n",
       "       [ 1.3571761 ],\n",
       "       [ 0.46758342],\n",
       "       [-0.13416868],\n",
       "       [ 1.0979362 ],\n",
       "       [-1.808094  ],\n",
       "       [ 0.30528072],\n",
       "       [ 2.2774243 ],\n",
       "       [ 1.2252195 ],\n",
       "       [-0.03052086],\n",
       "       [-0.25518423],\n",
       "       [ 1.5960553 ],\n",
       "       [ 0.19016296],\n",
       "       [-0.12430158],\n",
       "       [ 0.24298656],\n",
       "       [ 0.6126343 ],\n",
       "       [ 1.1096588 ],\n",
       "       [-3.0424862 ],\n",
       "       [-0.7905295 ],\n",
       "       [ 0.3424486 ],\n",
       "       [ 0.6636731 ],\n",
       "       [-2.6352582 ],\n",
       "       [-0.8364643 ]], dtype=float32)"
      ]
     },
     "execution_count": 284,
     "metadata": {},
     "output_type": "execute_result"
    }
   ],
   "source": [
    "linear_model.predict(train_features[:32])"
   ]
  },
  {
   "cell_type": "code",
   "execution_count": 285,
   "id": "5a5cc852",
   "metadata": {},
   "outputs": [
    {
     "data": {
      "text/plain": [
       "<tf.Variable 'dense_22/kernel:0' shape=(33, 1) dtype=float32, numpy=\n",
       "array([[ 0.06076133],\n",
       "       [-0.08826673],\n",
       "       [ 0.3663344 ],\n",
       "       [ 0.02128252],\n",
       "       [-0.31701225],\n",
       "       [ 0.12534681],\n",
       "       [-0.40756086],\n",
       "       [ 0.23629096],\n",
       "       [-0.21651198],\n",
       "       [-0.05375004],\n",
       "       [ 0.19075182],\n",
       "       [-0.06497321],\n",
       "       [ 0.00049257],\n",
       "       [ 0.34890607],\n",
       "       [ 0.31018022],\n",
       "       [ 0.06086922],\n",
       "       [ 0.18108574],\n",
       "       [ 0.22510466],\n",
       "       [ 0.26641193],\n",
       "       [ 0.27067217],\n",
       "       [ 0.35337153],\n",
       "       [-0.38524622],\n",
       "       [ 0.15980497],\n",
       "       [ 0.4110761 ],\n",
       "       [-0.3453913 ],\n",
       "       [ 0.10093918],\n",
       "       [-0.24842975],\n",
       "       [ 0.14759156],\n",
       "       [-0.27273244],\n",
       "       [-0.09193486],\n",
       "       [ 0.04451486],\n",
       "       [-0.14867494],\n",
       "       [ 0.15818354]], dtype=float32)>"
      ]
     },
     "execution_count": 285,
     "metadata": {},
     "output_type": "execute_result"
    }
   ],
   "source": [
    "linear_model.layers[1].kernel"
   ]
  },
  {
   "cell_type": "code",
   "execution_count": 286,
   "id": "86f2c977",
   "metadata": {},
   "outputs": [],
   "source": [
    "linear_model.compile(\n",
    "    optimizer=tf.optimizers.Adam(learning_rate=0.03),\n",
    "    loss='mean_absolute_error')"
   ]
  },
  {
   "cell_type": "code",
   "execution_count": 287,
   "id": "bee40aa4",
   "metadata": {},
   "outputs": [
    {
     "name": "stdout",
     "output_type": "stream",
     "text": [
      "Wall time: 13.1 s\n"
     ]
    }
   ],
   "source": [
    "%%time\n",
    "history = linear_model.fit(\n",
    "    train_features,\n",
    "    train_labels,\n",
    "    epochs=100,\n",
    "    # Suppress logging.\n",
    "    verbose=0,\n",
    "    # Calculate validation results on 20% of the training data.\n",
    "    validation_split = 0.2)"
   ]
  },
  {
   "cell_type": "code",
   "execution_count": 288,
   "id": "33cff056",
   "metadata": {},
   "outputs": [
    {
     "data": {
      "text/html": [
       "<div>\n",
       "<style scoped>\n",
       "    .dataframe tbody tr th:only-of-type {\n",
       "        vertical-align: middle;\n",
       "    }\n",
       "\n",
       "    .dataframe tbody tr th {\n",
       "        vertical-align: top;\n",
       "    }\n",
       "\n",
       "    .dataframe thead th {\n",
       "        text-align: right;\n",
       "    }\n",
       "</style>\n",
       "<table border=\"1\" class=\"dataframe\">\n",
       "  <thead>\n",
       "    <tr style=\"text-align: right;\">\n",
       "      <th></th>\n",
       "      <th>loss</th>\n",
       "      <th>val_loss</th>\n",
       "      <th>epoch</th>\n",
       "    </tr>\n",
       "  </thead>\n",
       "  <tbody>\n",
       "    <tr>\n",
       "      <th>95</th>\n",
       "      <td>60.0</td>\n",
       "      <td>59.7</td>\n",
       "      <td>95</td>\n",
       "    </tr>\n",
       "    <tr>\n",
       "      <th>96</th>\n",
       "      <td>59.7</td>\n",
       "      <td>59.4</td>\n",
       "      <td>96</td>\n",
       "    </tr>\n",
       "    <tr>\n",
       "      <th>97</th>\n",
       "      <td>59.4</td>\n",
       "      <td>59.1</td>\n",
       "      <td>97</td>\n",
       "    </tr>\n",
       "    <tr>\n",
       "      <th>98</th>\n",
       "      <td>59.2</td>\n",
       "      <td>58.9</td>\n",
       "      <td>98</td>\n",
       "    </tr>\n",
       "    <tr>\n",
       "      <th>99</th>\n",
       "      <td>59.0</td>\n",
       "      <td>58.6</td>\n",
       "      <td>99</td>\n",
       "    </tr>\n",
       "  </tbody>\n",
       "</table>\n",
       "</div>"
      ],
      "text/plain": [
       "    loss  val_loss  epoch\n",
       "95  60.0      59.7     95\n",
       "96  59.7      59.4     96\n",
       "97  59.4      59.1     97\n",
       "98  59.2      58.9     98\n",
       "99  59.0      58.6     99"
      ]
     },
     "execution_count": 288,
     "metadata": {},
     "output_type": "execute_result"
    }
   ],
   "source": [
    "hist = pd.DataFrame(history.history)\n",
    "hist['epoch'] = history.epoch\n",
    "hist.tail()"
   ]
  },
  {
   "cell_type": "code",
   "execution_count": 326,
   "id": "e28160ad",
   "metadata": {},
   "outputs": [],
   "source": [
    "def plot_loss(history):\n",
    "  plt.plot(history.history['loss'], label='loss')\n",
    "  plt.plot(history.history['val_loss'], label='val_loss')\n",
    "  plt.ylim([0, 500])\n",
    "  plt.xlabel('Epoch')\n",
    "  plt.ylabel('Error [MPG]')\n",
    "  plt.legend()\n",
    "  plt.grid(True)"
   ]
  },
  {
   "cell_type": "code",
   "execution_count": 327,
   "id": "0ac0fae2",
   "metadata": {},
   "outputs": [
    {
     "data": {
      "image/png": "[encoded data removed]",
      "text/plain": [
       "<Figure size 432x288 with 1 Axes>"
      ]
     },
     "metadata": {
      "needs_background": "light"
     },
     "output_type": "display_data"
    }
   ],
   "source": [
    "plot_loss(history)"
   ]
  },
  {
   "cell_type": "code",
   "execution_count": 312,
   "id": "ffefbad1",
   "metadata": {},
   "outputs": [],
   "source": [
    "test_results1 = {}\n",
    "\n",
    "test_results1['linear_model'] = linear_model.evaluate(\n",
    "    test_features,\n",
    "    test_labels, verbose=0)"
   ]
  },
  {
   "cell_type": "code",
   "execution_count": 313,
   "id": "e311c71f",
   "metadata": {
    "scrolled": true
   },
   "outputs": [
    {
     "data": {
      "text/plain": [
       "{'linear_model': 59.544307708740234}"
      ]
     },
     "execution_count": 313,
     "metadata": {},
     "output_type": "execute_result"
    }
   ],
   "source": [
    "test_results1"
   ]
  },
  {
   "cell_type": "code",
   "execution_count": 324,
   "id": "72024e07",
   "metadata": {
    "scrolled": true
   },
   "outputs": [
    {
     "data": {
      "text/plain": [
       "(1153,)"
      ]
     },
     "execution_count": 324,
     "metadata": {},
     "output_type": "execute_result"
    }
   ],
   "source": [
    "test_labels.shape"
   ]
  },
  {
   "cell_type": "code",
   "execution_count": 336,
   "id": "c02eae2a",
   "metadata": {},
   "outputs": [
    {
     "data": {
      "text/plain": [
       "3       78.0\n",
       "4       85.0\n",
       "5      180.0\n",
       "9       87.0\n",
       "16     551.0\n",
       "        ... \n",
       "8552   140.0\n",
       "8559   363.0\n",
       "8561    58.0\n",
       "8562   525.0\n",
       "8569   472.0\n",
       "Name: NUMBER_OF_VEHICLES, Length: 1153, dtype: float64"
      ]
     },
     "execution_count": 336,
     "metadata": {},
     "output_type": "execute_result"
    }
   ],
   "source": [
    "test_labels"
   ]
  },
  {
   "cell_type": "code",
   "execution_count": 413,
   "id": "17d63822",
   "metadata": {},
   "outputs": [
    {
     "name": "stdout",
     "output_type": "stream",
     "text": [
      "37/37 [==============================] - 0s 2ms/step\n"
     ]
    }
   ],
   "source": [
    "x = test_features\n",
    "y = linear_model.predict(x)"
   ]
  },
  {
   "cell_type": "code",
   "execution_count": 347,
   "id": "5044d668",
   "metadata": {},
   "outputs": [
    {
     "data": {
      "image/png": "[encoded data removed]",
      "text/plain": [
       "<Figure size 432x288 with 1 Axes>"
      ]
     },
     "metadata": {
      "needs_background": "light"
     },
     "output_type": "display_data"
    }
   ],
   "source": [
    "a = plt.axes(aspect='equal')\n",
    "plt.scatter(test_labels, y)\n",
    "plt.xlabel('True Values [Number of Vehicles]')\n",
    "plt.ylabel('Predictions [Number of Vehicles]')\n",
    "lims = [0, 800]\n",
    "plt.xlim(lims)\n",
    "plt.ylim(lims)\n",
    "_ = plt.plot(lims, lims)"
   ]
  },
  {
   "cell_type": "markdown",
   "id": "99f916be",
   "metadata": {},
   "source": [
    "## MULTILINEAR REGRESSION WITH DNN"
   ]
  },
  {
   "cell_type": "code",
   "execution_count": 315,
   "id": "d0b7552e",
   "metadata": {},
   "outputs": [],
   "source": [
    "def build_and_compile_model(norm):\n",
    "  model = keras.Sequential([\n",
    "      norm,\n",
    "      layers.Dense(64, activation='relu'),\n",
    "      layers.Dense(64, activation='relu'),\n",
    "      layers.Dense(1)\n",
    "  ])\n",
    "\n",
    "  model.compile(loss='mean_absolute_error',\n",
    "                optimizer=tf.keras.optimizers.Adam(0.001))\n",
    "  return model"
   ]
  },
  {
   "cell_type": "code",
   "execution_count": 316,
   "id": "57fa2637",
   "metadata": {
    "scrolled": true
   },
   "outputs": [
    {
     "name": "stdout",
     "output_type": "stream",
     "text": [
      "Model: \"sequential_18\"\n",
      "_________________________________________________________________\n",
      " Layer (type)                Output Shape              Param #   \n",
      "=================================================================\n",
      " normalization_6 (Normalizat  (None, 33)               67        \n",
      " ion)                                                            \n",
      "                                                                 \n",
      " dense_26 (Dense)            (None, 64)                2176      \n",
      "                                                                 \n",
      " dense_27 (Dense)            (None, 64)                4160      \n",
      "                                                                 \n",
      " dense_28 (Dense)            (None, 1)                 65        \n",
      "                                                                 \n",
      "=================================================================\n",
      "Total params: 6,468\n",
      "Trainable params: 6,401\n",
      "Non-trainable params: 67\n",
      "_________________________________________________________________\n"
     ]
    }
   ],
   "source": [
    "dnn_model = build_and_compile_model(normalizer)\n",
    "dnn_model.summary()"
   ]
  },
  {
   "cell_type": "code",
   "execution_count": 317,
   "id": "7e6c45ac",
   "metadata": {},
   "outputs": [
    {
     "name": "stdout",
     "output_type": "stream",
     "text": [
      "Wall time: 13.7 s\n"
     ]
    }
   ],
   "source": [
    "%%time\n",
    "history = dnn_model.fit(\n",
    "    train_features,\n",
    "    train_labels,\n",
    "    validation_split=0.2,\n",
    "    verbose=0, epochs=100)"
   ]
  },
  {
   "cell_type": "code",
   "execution_count": 296,
   "id": "b7ace55e",
   "metadata": {
    "scrolled": true
   },
   "outputs": [
    {
     "data": {
      "image/png": "[encoded data removed]",
      "text/plain": [
       "<Figure size 432x288 with 1 Axes>"
      ]
     },
     "metadata": {
      "needs_background": "light"
     },
     "output_type": "display_data"
    }
   ],
   "source": [
    "plot_loss(history)"
   ]
  },
  {
   "cell_type": "code",
   "execution_count": 318,
   "id": "4f0219d0",
   "metadata": {},
   "outputs": [],
   "source": [
    "test_results2 = {}\n",
    "\n",
    "test_results2['linear_model'] = linear_model.evaluate(\n",
    "    test_features,\n",
    "    test_labels, verbose=0)"
   ]
  },
  {
   "cell_type": "code",
   "execution_count": 319,
   "id": "463fb7e7",
   "metadata": {},
   "outputs": [
    {
     "data": {
      "text/html": [
       "<div>\n",
       "<style scoped>\n",
       "    .dataframe tbody tr th:only-of-type {\n",
       "        vertical-align: middle;\n",
       "    }\n",
       "\n",
       "    .dataframe tbody tr th {\n",
       "        vertical-align: top;\n",
       "    }\n",
       "\n",
       "    .dataframe thead th {\n",
       "        text-align: right;\n",
       "    }\n",
       "</style>\n",
       "<table border=\"1\" class=\"dataframe\">\n",
       "  <thead>\n",
       "    <tr style=\"text-align: right;\">\n",
       "      <th></th>\n",
       "      <th>Mean absolute error [Number of Vehicles]</th>\n",
       "    </tr>\n",
       "  </thead>\n",
       "  <tbody>\n",
       "    <tr>\n",
       "      <th>linear_model</th>\n",
       "      <td>59.6</td>\n",
       "    </tr>\n",
       "  </tbody>\n",
       "</table>\n",
       "</div>"
      ],
      "text/plain": [
       "              Mean absolute error [Number of Vehicles]\n",
       "linear_model                                      59.6"
      ]
     },
     "execution_count": 319,
     "metadata": {},
     "output_type": "execute_result"
    }
   ],
   "source": [
    "pd.DataFrame(test_results, index=['Mean absolute error [Number of Vehicles]']).T"
   ]
  },
  {
   "cell_type": "code",
   "execution_count": 320,
   "id": "f01d78be",
   "metadata": {},
   "outputs": [],
   "source": [
    "dnn_model.compile(optimizer='sgd',\n",
    "              loss='mse',\n",
    "              metrics=[tf.keras.metrics.Accuracy()])"
   ]
  },
  {
   "cell_type": "code",
   "execution_count": 321,
   "id": "d2c70ae7",
   "metadata": {},
   "outputs": [
    {
     "name": "stdout",
     "output_type": "stream",
     "text": [
      "37/37 [==============================] - 0s 1ms/step\n"
     ]
    },
    {
     "data": {
      "image/png": "[encoded data removed]",
      "text/plain": [
       "<Figure size 432x288 with 1 Axes>"
      ]
     },
     "metadata": {
      "needs_background": "light"
     },
     "output_type": "display_data"
    }
   ],
   "source": [
    "test_predictions = dnn_model.predict(test_features).flatten()\n",
    "\n",
    "a = plt.axes(aspect='equal')\n",
    "plt.scatter(test_labels, test_predictions)\n",
    "plt.xlabel('True Values [Number of Vehicles]')\n",
    "plt.ylabel('Predictions [Number of Vehicles]')\n",
    "lims = [0, 800]\n",
    "plt.xlim(lims)\n",
    "plt.ylim(lims)\n",
    "_ = plt.plot(lims, lims)"
   ]
  }
 ],
 "metadata": {
  "kernelspec": {
   "display_name": "Python 3 (ipykernel)",
   "language": "python",
   "name": "python3"
  },
  "language_info": {
   "codemirror_mode": {
    "name": "ipython",
    "version": 3
   },
   "file_extension": ".py",
   "mimetype": "text/x-python",
   "name": "python",
   "nbconvert_exporter": "python",
   "pygments_lexer": "ipython3",
   "version": "3.9.7"
  }
 },
 "nbformat": 4,
 "nbformat_minor": 5
}
